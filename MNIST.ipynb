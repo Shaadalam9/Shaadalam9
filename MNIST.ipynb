{
  "nbformat": 4,
  "nbformat_minor": 0,
  "metadata": {
    "colab": {
      "name": "MNIST.ipynb",
      "provenance": [],
      "collapsed_sections": [],
      "authorship_tag": "ABX9TyMUU66evm6MHPGDFWb4Bm2x",
      "include_colab_link": true
    },
    "kernelspec": {
      "name": "python3",
      "display_name": "Python 3"
    },
    "language_info": {
      "name": "python"
    },
    "accelerator": "GPU"
  },
  "cells": [
    {
      "cell_type": "markdown",
      "metadata": {
        "id": "view-in-github",
        "colab_type": "text"
      },
      "source": [
        "<a href=\"https://colab.research.google.com/github/Shaadalam9/Shaadalam9/blob/main/MNIST.ipynb\" target=\"_parent\"><img src=\"https://colab.research.google.com/assets/colab-badge.svg\" alt=\"Open In Colab\"/></a>"
      ]
    },
    {
      "cell_type": "code",
      "metadata": {
        "id": "ZD8x3NXDrgiA"
      },
      "source": [
        "import numpy as np\n",
        "import pandas as pd\n",
        "import matplotlib.pyplot as plt\n",
        "%matplotlib inline"
      ],
      "execution_count": 1,
      "outputs": []
    },
    {
      "cell_type": "code",
      "metadata": {
        "id": "nH_XhQifrsE5"
      },
      "source": [
        "from sklearn.datasets import fetch_openml\n",
        "mnist=fetch_openml(\"mnist_784\")"
      ],
      "execution_count": 2,
      "outputs": []
    },
    {
      "cell_type": "code",
      "metadata": {
        "colab": {
          "base_uri": "https://localhost:8080/"
        },
        "id": "J_po2C3Xr-4D",
        "outputId": "43f8b87f-4f8b-4658-afb7-d17ffc86918b"
      },
      "source": [
        "mnist.keys()"
      ],
      "execution_count": 3,
      "outputs": [
        {
          "output_type": "execute_result",
          "data": {
            "text/plain": [
              "dict_keys(['data', 'target', 'frame', 'feature_names', 'target_names', 'DESCR', 'details', 'categories', 'url'])"
            ]
          },
          "metadata": {},
          "execution_count": 3
        }
      ]
    },
    {
      "cell_type": "code",
      "metadata": {
        "id": "XoyFZJKHsLm5"
      },
      "source": [
        "x=mnist[\"data\"]\n",
        "y=mnist[\"target\"]\n",
        "y=y.astype(np.uint8)\n",
        "x_train,x_test,y_train,y_test=x[:60000],x[60000:],y[:60000],y[60000:]"
      ],
      "execution_count": 4,
      "outputs": []
    },
    {
      "cell_type": "markdown",
      "metadata": {
        "id": "lzaRvP0qs5NA"
      },
      "source": [
        "**BINARY CLASSIFICATION**"
      ]
    },
    {
      "cell_type": "code",
      "metadata": {
        "id": "svo_7LCctFxF"
      },
      "source": [
        "y_train_5=(y_train==5)\n",
        "y_test_5=(y_test==5)"
      ],
      "execution_count": 5,
      "outputs": []
    },
    {
      "cell_type": "code",
      "metadata": {
        "id": "w4rAvkystWyN"
      },
      "source": [
        "from sklearn.linear_model import SGDClassifier\n",
        "sgd_clf = SGDClassifier()"
      ],
      "execution_count": 6,
      "outputs": []
    },
    {
      "cell_type": "code",
      "metadata": {
        "colab": {
          "base_uri": "https://localhost:8080/"
        },
        "id": "rQf3QZWCKKJu",
        "outputId": "da2e6b0d-57ad-42aa-f941-ef5ae84878c8"
      },
      "source": [
        "sgd_clf.fit(x_train,y_train_5)"
      ],
      "execution_count": 7,
      "outputs": [
        {
          "output_type": "execute_result",
          "data": {
            "text/plain": [
              "SGDClassifier(alpha=0.0001, average=False, class_weight=None,\n",
              "              early_stopping=False, epsilon=0.1, eta0=0.0, fit_intercept=True,\n",
              "              l1_ratio=0.15, learning_rate='optimal', loss='hinge',\n",
              "              max_iter=1000, n_iter_no_change=5, n_jobs=None, penalty='l2',\n",
              "              power_t=0.5, random_state=None, shuffle=True, tol=0.001,\n",
              "              validation_fraction=0.1, verbose=0, warm_start=False)"
            ]
          },
          "metadata": {},
          "execution_count": 7
        }
      ]
    },
    {
      "cell_type": "code",
      "metadata": {
        "colab": {
          "base_uri": "https://localhost:8080/"
        },
        "id": "aZ9UdI6EKbER",
        "outputId": "e7447fc1-e75d-4b61-80ee-2bd8f80a96e4"
      },
      "source": [
        "some_digit=x[0]\n",
        "sgd_clf.predict([some_digit])"
      ],
      "execution_count": 8,
      "outputs": [
        {
          "output_type": "execute_result",
          "data": {
            "text/plain": [
              "array([False])"
            ]
          },
          "metadata": {},
          "execution_count": 8
        }
      ]
    },
    {
      "cell_type": "code",
      "metadata": {
        "colab": {
          "base_uri": "https://localhost:8080/"
        },
        "id": "u3okYUeJM6UJ",
        "outputId": "ddf89cac-6b15-4403-d1b7-a161a8cf5dfa"
      },
      "source": [
        "from sklearn.model_selection import cross_val_score\n",
        "cross_val_score(sgd_clf,x_train,y_train_5,cv=3,scoring=\"accuracy\")"
      ],
      "execution_count": 9,
      "outputs": [
        {
          "output_type": "execute_result",
          "data": {
            "text/plain": [
              "array([0.9645, 0.9609, 0.9637])"
            ]
          },
          "metadata": {},
          "execution_count": 9
        }
      ]
    },
    {
      "cell_type": "code",
      "metadata": {
        "id": "AS5jLcsdW7js"
      },
      "source": [
        "from sklearn.base import BaseEstimator\n",
        "class Never5classifier(BaseEstimator):\n",
        "  def fit(self,x,y=None):\n",
        "    pass\n",
        "  def predict(self,x):\n",
        "    return np.zeros((len(x),1),dtype=bool)"
      ],
      "execution_count": 10,
      "outputs": []
    },
    {
      "cell_type": "code",
      "metadata": {
        "colab": {
          "base_uri": "https://localhost:8080/"
        },
        "id": "TYOo_udmXq5Q",
        "outputId": "73ed8c84-4545-4ff8-cc07-07f05a92fa78"
      },
      "source": [
        "never_5_clf=Never5classifier()\n",
        "cross_val_score(never_5_clf,x_train,y_train_5,cv=3,scoring=\"accuracy\")"
      ],
      "execution_count": 11,
      "outputs": [
        {
          "output_type": "execute_result",
          "data": {
            "text/plain": [
              "array([0.91125, 0.90855, 0.90915])"
            ]
          },
          "metadata": {},
          "execution_count": 11
        }
      ]
    },
    {
      "cell_type": "code",
      "metadata": {
        "id": "rm4c1pJ9YBAq"
      },
      "source": [
        "from sklearn.model_selection import cross_val_predict\n",
        "y_train_pred=cross_val_predict(sgd_clf,x_train,y_train_5,cv=3) "
      ],
      "execution_count": 12,
      "outputs": []
    },
    {
      "cell_type": "code",
      "metadata": {
        "id": "Dr_vzkgjbGPF",
        "colab": {
          "base_uri": "https://localhost:8080/"
        },
        "outputId": "3cf49be6-b092-4344-9785-51cb9b79a75c"
      },
      "source": [
        "from sklearn.metrics import confusion_matrix\n",
        "confusion_matrix(y_train_5,y_train_pred)"
      ],
      "execution_count": 13,
      "outputs": [
        {
          "output_type": "execute_result",
          "data": {
            "text/plain": [
              "array([[54130,   449],\n",
              "       [ 1931,  3490]])"
            ]
          },
          "metadata": {},
          "execution_count": 13
        }
      ]
    },
    {
      "cell_type": "code",
      "metadata": {
        "id": "47U7qOYAbVbk",
        "colab": {
          "base_uri": "https://localhost:8080/"
        },
        "outputId": "1000fd61-e55c-44c6-acb8-4c10449e4f36"
      },
      "source": [
        "confusion_matrix(y_train_5,y_train_5)"
      ],
      "execution_count": 14,
      "outputs": [
        {
          "output_type": "execute_result",
          "data": {
            "text/plain": [
              "array([[54579,     0],\n",
              "       [    0,  5421]])"
            ]
          },
          "metadata": {},
          "execution_count": 14
        }
      ]
    },
    {
      "cell_type": "code",
      "metadata": {
        "colab": {
          "base_uri": "https://localhost:8080/"
        },
        "id": "lJLNRR9L-fVy",
        "outputId": "bb800bff-faca-463f-90d1-5e7d3c727c93"
      },
      "source": [
        "from sklearn.metrics import precision_score, recall_score\n",
        "precision_score(y_train_5,y_train_pred),recall_score(y_train_5,y_train_pred)"
      ],
      "execution_count": 15,
      "outputs": [
        {
          "output_type": "execute_result",
          "data": {
            "text/plain": [
              "(0.886011678090886, 0.6437926581811474)"
            ]
          },
          "metadata": {},
          "execution_count": 15
        }
      ]
    },
    {
      "cell_type": "code",
      "metadata": {
        "colab": {
          "base_uri": "https://localhost:8080/"
        },
        "id": "vBILV_H6EVoy",
        "outputId": "ecf70717-a5e7-4b38-d687-6805b68c59ca"
      },
      "source": [
        "from sklearn.metrics import f1_score\n",
        "f1_score(y_train_5,y_train_pred)"
      ],
      "execution_count": 16,
      "outputs": [
        {
          "output_type": "execute_result",
          "data": {
            "text/plain": [
              "0.7457264957264957"
            ]
          },
          "metadata": {},
          "execution_count": 16
        }
      ]
    },
    {
      "cell_type": "code",
      "metadata": {
        "colab": {
          "base_uri": "https://localhost:8080/"
        },
        "id": "h_6Db9lzG6J_",
        "outputId": "4fcf9e7e-90b2-48f6-f61c-01f66f2c6442"
      },
      "source": [
        "y_scores=sgd_clf.decision_function([some_digit])\n",
        "y_scores"
      ],
      "execution_count": 17,
      "outputs": [
        {
          "output_type": "execute_result",
          "data": {
            "text/plain": [
              "array([-289.14311111])"
            ]
          },
          "metadata": {},
          "execution_count": 17
        }
      ]
    },
    {
      "cell_type": "code",
      "metadata": {
        "id": "c0cFWsINJygH"
      },
      "source": [
        "threshold=0\n",
        "y_some_digit_pred=(y_scores>threshold)"
      ],
      "execution_count": 18,
      "outputs": []
    },
    {
      "cell_type": "code",
      "metadata": {
        "colab": {
          "base_uri": "https://localhost:8080/"
        },
        "id": "TCFEWkUiKDiT",
        "outputId": "6896509d-d70c-4cfb-8054-123c338d9ec6"
      },
      "source": [
        "threshold=8000\n",
        "y_some_digit_pred=(y_scores>threshold)\n",
        "y_some_digit_pred"
      ],
      "execution_count": 19,
      "outputs": [
        {
          "output_type": "execute_result",
          "data": {
            "text/plain": [
              "array([False])"
            ]
          },
          "metadata": {},
          "execution_count": 19
        }
      ]
    },
    {
      "cell_type": "code",
      "metadata": {
        "id": "r59w4kqVKW-H"
      },
      "source": [
        "y_scores=cross_val_predict(sgd_clf,x_train,y_train_5,cv=3,method=\"decision_function\")"
      ],
      "execution_count": 20,
      "outputs": []
    },
    {
      "cell_type": "code",
      "metadata": {
        "id": "dLUqL-zpK06F"
      },
      "source": [
        "from sklearn.metrics import precision_recall_curve\n",
        "precisions,recalls,thresholds=precision_recall_curve(y_train_5,y_scores)"
      ],
      "execution_count": 21,
      "outputs": []
    },
    {
      "cell_type": "code",
      "metadata": {
        "colab": {
          "base_uri": "https://localhost:8080/",
          "height": 265
        },
        "id": "_KqKdvlPLUXd",
        "outputId": "833d5c49-8b7c-4ff7-953f-8826ca1a2c08"
      },
      "source": [
        "def plot_precision_recall_vs_threshold(precision, recalls, thresholds):\n",
        "  plt.plot(thresholds,precision[:-1],\"b--\",label=\"Precision\")\n",
        "  plt.plot(thresholds,recalls[:-1],\"g-\",label=\"Recall\")\n",
        "  [...]\n",
        "plot_precision_recall_vs_threshold(precisions,recalls,thresholds)\n",
        "plt.show()"
      ],
      "execution_count": 22,
      "outputs": [
        {
          "output_type": "display_data",
          "data": {
            "image/png": "[encoded data removed]",
            "text/plain": [
              "<Figure size 432x288 with 1 Axes>"
            ]
          },
          "metadata": {
            "needs_background": "light"
          }
        }
      ]
    },
    {
      "cell_type": "code",
      "metadata": {
        "colab": {
          "base_uri": "https://localhost:8080/"
        },
        "id": "RAh-TLU9MfeI",
        "outputId": "0f3783c1-6052-4eb6-bc92-4129379b1a0b"
      },
      "source": [
        "threshold_90_precision = thresholds[np.argmax(precisions>=0.9)]\n",
        "threshold_90_precision"
      ],
      "execution_count": 23,
      "outputs": [
        {
          "output_type": "execute_result",
          "data": {
            "text/plain": [
              "641.4310137019633"
            ]
          },
          "metadata": {},
          "execution_count": 23
        }
      ]
    },
    {
      "cell_type": "code",
      "metadata": {
        "id": "fQ82fjg-OoJW"
      },
      "source": [
        "y_train_pred_90=(y_scores>=threshold_90_precision)"
      ],
      "execution_count": 24,
      "outputs": []
    },
    {
      "cell_type": "code",
      "metadata": {
        "colab": {
          "base_uri": "https://localhost:8080/"
        },
        "id": "o5ht91DYO7tc",
        "outputId": "880a6e39-c843-4bf6-9a57-b9c14df999f8"
      },
      "source": [
        "precision_score(y_train_5,y_train_pred_90),recall_score(y_train_5,y_train_pred_90)"
      ],
      "execution_count": 25,
      "outputs": [
        {
          "output_type": "execute_result",
          "data": {
            "text/plain": [
              "(0.9001733960862026, 0.6703560228740085)"
            ]
          },
          "metadata": {},
          "execution_count": 25
        }
      ]
    },
    {
      "cell_type": "code",
      "metadata": {
        "id": "E0-iQlvJPUWM"
      },
      "source": [
        "from sklearn.metrics import roc_curve"
      ],
      "execution_count": 26,
      "outputs": []
    },
    {
      "cell_type": "code",
      "metadata": {
        "id": "RbGzmiTLSCOY"
      },
      "source": [
        "fpr,tpr,thresholds=roc_curve(y_train_5,y_scores)"
      ],
      "execution_count": 27,
      "outputs": []
    },
    {
      "cell_type": "code",
      "metadata": {
        "colab": {
          "base_uri": "https://localhost:8080/",
          "height": 265
        },
        "id": "_fmSgGfDSNrK",
        "outputId": "6dea44f7-f1bb-4b24-b179-62f39e94ef80"
      },
      "source": [
        "def plot_roc_curve(fpr,tpr,label=None):\n",
        "  plt.plot(fpr,tpr,linewidth=2,label=label)\n",
        "  plt.plot([0,1],[0,1],\"k--\")\n",
        "  [...]\n",
        "plot_roc_curve(fpr,tpr)\n",
        "plt.show()"
      ],
      "execution_count": 28,
      "outputs": [
        {
          "output_type": "display_data",
          "data": {
            "image/png": "[encoded data removed]",
            "text/plain": [
              "<Figure size 432x288 with 1 Axes>"
            ]
          },
          "metadata": {
            "needs_background": "light"
          }
        }
      ]
    },
    {
      "cell_type": "code",
      "metadata": {
        "id": "4oZzIaDtTAF0"
      },
      "source": [
        "from sklearn.ensemble import RandomForestClassifier\n",
        "forest_clf=RandomForestClassifier(random_state=42)\n",
        "y_probas_forest=cross_val_predict(forest_clf,x_train,y_train_5,cv=3,method=\"predict_proba\")"
      ],
      "execution_count": 29,
      "outputs": []
    },
    {
      "cell_type": "code",
      "metadata": {
        "id": "_CfBsadrcxou"
      },
      "source": [
        "y_scores_forest=y_probas_forest[:,1]\n",
        "fpr_forest,tpr_forest,thresholds_forest=roc_curve(y_train_5,y_scores_forest)"
      ],
      "execution_count": 30,
      "outputs": []
    },
    {
      "cell_type": "code",
      "metadata": {
        "colab": {
          "base_uri": "https://localhost:8080/",
          "height": 265
        },
        "id": "x0iXYvyzd1zo",
        "outputId": "86b58158-dc69-4219-89e0-80912c1a5559"
      },
      "source": [
        "plt.plot(fpr,tpr,\"b:\",label=\"SGD\")\n",
        "plot_roc_curve(fpr_forest,tpr_forest,\"Random Forest\")\n",
        "plt.legend(loc=\"lower right\")\n",
        "plt.show()"
      ],
      "execution_count": 31,
      "outputs": [
        {
          "output_type": "display_data",
          "data": {
            "image/png": "[encoded data removed]",
            "text/plain": [
              "<Figure size 432x288 with 1 Axes>"
            ]
          },
          "metadata": {
            "needs_background": "light"
          }
        }
      ]
    },
    {
      "cell_type": "code",
      "metadata": {
        "colab": {
          "base_uri": "https://localhost:8080/"
        },
        "id": "LLeWcL_3eMqK",
        "outputId": "79669214-8cf3-494d-9bf1-f9015b73c4f1"
      },
      "source": [
        "from sklearn.svm import SVC\n",
        "svm_clf=SVC()\n",
        "svm_clf.fit(x_train,y_train)\n"
      ],
      "execution_count": 32,
      "outputs": [
        {
          "output_type": "execute_result",
          "data": {
            "text/plain": [
              "SVC(C=1.0, break_ties=False, cache_size=200, class_weight=None, coef0=0.0,\n",
              "    decision_function_shape='ovr', degree=3, gamma='scale', kernel='rbf',\n",
              "    max_iter=-1, probability=False, random_state=None, shrinking=True,\n",
              "    tol=0.001, verbose=False)"
            ]
          },
          "metadata": {},
          "execution_count": 32
        }
      ]
    },
    {
      "cell_type": "code",
      "metadata": {
        "colab": {
          "base_uri": "https://localhost:8080/"
        },
        "id": "Pt4vF4mhrONI",
        "outputId": "371c7802-1769-43f2-8f2a-04c5613d0a7e"
      },
      "source": [
        "svm_clf.predict([some_digit])"
      ],
      "execution_count": 33,
      "outputs": [
        {
          "output_type": "execute_result",
          "data": {
            "text/plain": [
              "array([5], dtype=uint8)"
            ]
          },
          "metadata": {},
          "execution_count": 33
        }
      ]
    },
    {
      "cell_type": "code",
      "metadata": {
        "colab": {
          "base_uri": "https://localhost:8080/"
        },
        "id": "3PC_6uBdrYcW",
        "outputId": "af0021b7-080e-4fcc-9e55-54925286231a"
      },
      "source": [
        "some_digit_scores=svm_clf.decision_function([some_digit])\n",
        "some_digit_scores"
      ],
      "execution_count": 34,
      "outputs": [
        {
          "output_type": "execute_result",
          "data": {
            "text/plain": [
              "array([[ 1.72501977,  2.72809088,  7.2510018 ,  8.3076379 , -0.31087254,\n",
              "         9.3132482 ,  1.70975103,  2.76765202,  6.23049537,  4.84771048]])"
            ]
          },
          "metadata": {},
          "execution_count": 34
        }
      ]
    },
    {
      "cell_type": "code",
      "metadata": {
        "colab": {
          "base_uri": "https://localhost:8080/"
        },
        "id": "61sFBKfHs_OW",
        "outputId": "4e9e629b-c2f6-4bcb-a291-17d2d96aba83"
      },
      "source": [
        "sgd_clf.fit(x_train,y_train)\n",
        "sgd_clf.predict([some_digit])"
      ],
      "execution_count": 35,
      "outputs": [
        {
          "output_type": "execute_result",
          "data": {
            "text/plain": [
              "array([5], dtype=uint8)"
            ]
          },
          "metadata": {},
          "execution_count": 35
        }
      ]
    },
    {
      "cell_type": "markdown",
      "metadata": {
        "id": "Mwi8OTlava8n"
      },
      "source": [
        "Decision function tell us about the threshold of the prediction ."
      ]
    },
    {
      "cell_type": "code",
      "metadata": {
        "colab": {
          "base_uri": "https://localhost:8080/"
        },
        "id": "ThK8PhVRvJkc",
        "outputId": "ee46787d-0320-4f53-c5b4-062bd96b1088"
      },
      "source": [
        "sgd_clf.decision_function([some_digit])"
      ],
      "execution_count": 36,
      "outputs": [
        {
          "output_type": "execute_result",
          "data": {
            "text/plain": [
              "array([[-21689.28794837, -35826.4365244 ,  -9836.23277351,\n",
              "           188.00264485, -17866.62505445,   4643.02322959,\n",
              "        -22909.10370908, -14125.15812867,  -9609.26180823,\n",
              "        -17743.4912893 ]])"
            ]
          },
          "metadata": {},
          "execution_count": 36
        }
      ]
    },
    {
      "cell_type": "code",
      "metadata": {
        "colab": {
          "base_uri": "https://localhost:8080/"
        },
        "id": "2eHaYmuVvoE1",
        "outputId": "4cb31194-dd3d-4478-e86e-990b2f32c2f2"
      },
      "source": [
        "cross_val_score(sgd_clf,x_train,y_train,cv=3,scoring=\"accuracy\")"
      ],
      "execution_count": 37,
      "outputs": [
        {
          "output_type": "execute_result",
          "data": {
            "text/plain": [
              "array([0.8809 , 0.86145, 0.8852 ])"
            ]
          },
          "metadata": {},
          "execution_count": 37
        }
      ]
    },
    {
      "cell_type": "code",
      "metadata": {
        "colab": {
          "base_uri": "https://localhost:8080/"
        },
        "id": "l8Grz64Wv07v",
        "outputId": "4d625ff7-90e8-42d9-f08b-ccf448c2ee46"
      },
      "source": [
        "cross_val_score(forest_clf,x_train,y_train,cv=3, scoring=\"accuracy\")"
      ],
      "execution_count": 38,
      "outputs": [
        {
          "output_type": "execute_result",
          "data": {
            "text/plain": [
              "array([0.9646 , 0.96255, 0.9666 ])"
            ]
          },
          "metadata": {},
          "execution_count": 38
        }
      ]
    },
    {
      "cell_type": "code",
      "metadata": {
        "colab": {
          "base_uri": "https://localhost:8080/"
        },
        "id": "twCvAwrdwTKb",
        "outputId": "70f7325f-e047-420a-9843-096cce8f9ebe"
      },
      "source": [
        "from sklearn.preprocessing import StandardScaler\n",
        "scaler=StandardScaler()\n",
        "x_train_scaled=scaler.fit_transform(x_train.astype(np.float64))\n",
        "cross_val_score(sgd_clf,x_train_scaled,y_train,cv=3,scoring=\"accuracy\")"
      ],
      "execution_count": 40,
      "outputs": [
        {
          "output_type": "stream",
          "name": "stderr",
          "text": [
            "/usr/local/lib/python3.7/dist-packages/sklearn/linear_model/_stochastic_gradient.py:557: ConvergenceWarning: Maximum number of iteration reached before convergence. Consider increasing max_iter to improve the fit.\n",
            "  ConvergenceWarning)\n"
          ]
        },
        {
          "output_type": "execute_result",
          "data": {
            "text/plain": [
              "array([0.8994 , 0.8964 , 0.90165])"
            ]
          },
          "metadata": {},
          "execution_count": 40
        }
      ]
    },
    {
      "cell_type": "code",
      "metadata": {
        "colab": {
          "base_uri": "https://localhost:8080/"
        },
        "id": "T76FF1-s3UEi",
        "outputId": "611e9af0-81a5-490c-d424-606eccd4d470"
      },
      "source": [
        "y_train_pred=cross_val_predict(sgd_clf,x_train_scaled,y_train,cv=3)\n",
        "conf_mx=confusion_matrix(y_train,y_train_pred)\n",
        "conf_mx"
      ],
      "execution_count": 41,
      "outputs": [
        {
          "output_type": "stream",
          "name": "stderr",
          "text": [
            "/usr/local/lib/python3.7/dist-packages/sklearn/linear_model/_stochastic_gradient.py:557: ConvergenceWarning: Maximum number of iteration reached before convergence. Consider increasing max_iter to improve the fit.\n",
            "  ConvergenceWarning)\n"
          ]
        },
        {
          "output_type": "execute_result",
          "data": {
            "text/plain": [
              "array([[5580,    0,   22,    6,    9,   51,   37,    6,  211,    1],\n",
              "       [   0, 6404,   37,   25,    4,   46,    4,    7,  205,   10],\n",
              "       [  27,   26, 5238,   97,   73,   28,   67,   39,  354,    9],\n",
              "       [  21,   17,  116, 5249,    2,  212,   27,   40,  375,   72],\n",
              "       [  12,   14,   48,   11, 5188,   13,   35,   26,  328,  167],\n",
              "       [  27,   15,   30,  172,   53, 4470,   74,   15,  507,   58],\n",
              "       [  29,   16,   44,    3,   42,   96, 5561,    3,  123,    1],\n",
              "       [  20,   11,   52,   31,   49,   12,    3, 5697,  176,  214],\n",
              "       [  16,   63,   46,   93,    3,  133,   27,   10, 5417,   43],\n",
              "       [  23,   18,   30,   67,  120,   35,    1,  178,  347, 5130]])"
            ]
          },
          "metadata": {},
          "execution_count": 41
        }
      ]
    },
    {
      "cell_type": "code",
      "metadata": {
        "colab": {
          "base_uri": "https://localhost:8080/",
          "height": 275
        },
        "id": "F318LqJY7FvF",
        "outputId": "00d3518b-ec0a-467f-e369-a1f8df815efb"
      },
      "source": [
        "plt.matshow(conf_mx,cmap=plt.cm.gray)\n",
        "plt.show()"
      ],
      "execution_count": 42,
      "outputs": [
        {
          "output_type": "display_data",
          "data": {
            "image/png": "[encoded data removed]",
            "text/plain": [
              "<Figure size 288x288 with 1 Axes>"
            ]
          },
          "metadata": {
            "needs_background": "light"
          }
        }
      ]
    },
    {
      "cell_type": "code",
      "metadata": {
        "id": "DJAqB2UE7Sl5"
      },
      "source": [
        "row_sums=conf_mx.sum(axis=1,keepdims=True)\n",
        "norm_conf_mx=conf_mx/row_sums"
      ],
      "execution_count": 43,
      "outputs": []
    },
    {
      "cell_type": "code",
      "metadata": {
        "colab": {
          "base_uri": "https://localhost:8080/",
          "height": 275
        },
        "id": "-pNYRvY78Ohx",
        "outputId": "701278fa-c5f6-43d9-b802-acb90f983a4b"
      },
      "source": [
        "np.fill_diagonal(norm_conf_mx,0)\n",
        "plt.matshow(norm_conf_mx,cmap=plt.cm.gray)\n",
        "plt.show()"
      ],
      "execution_count": 44,
      "outputs": [
        {
          "output_type": "display_data",
          "data": {
            "image/png": "[encoded data removed]",
            "text/plain": [
              "<Figure size 288x288 with 1 Axes>"
            ]
          },
          "metadata": {
            "needs_background": "light"
          }
        }
      ]
    },
    {
      "cell_type": "code",
      "metadata": {
        "id": "5RwjCjMo8oKV"
      },
      "source": [
        ""
      ],
      "execution_count": null,
      "outputs": []
    }
  ]
}