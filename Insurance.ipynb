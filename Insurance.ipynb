{
  "nbformat": 4,
  "nbformat_minor": 0,
  "metadata": {
    "colab": {
      "name": "Insurance.ipynb",
      "provenance": [],
      "authorship_tag": "ABX9TyMw/s+17gQNKPj3mSPPSd1K",
      "include_colab_link": true
    },
    "kernelspec": {
      "name": "python3",
      "display_name": "Python 3"
    },
    "language_info": {
      "name": "python"
    },
    "accelerator": "GPU"
  },
  "cells": [
    {
      "cell_type": "markdown",
      "metadata": {
        "id": "view-in-github",
        "colab_type": "text"
      },
      "source": [
        "<a href=\"https://colab.research.google.com/github/Shaadalam9/Shaadalam9/blob/main/Insurance.ipynb\" target=\"_parent\"><img src=\"https://colab.research.google.com/assets/colab-badge.svg\" alt=\"Open In Colab\"/></a>"
      ]
    },
    {
      "cell_type": "code",
      "metadata": {
        "id": "erAJTKeYILhb"
      },
      "source": [
        "import tensorflow as tf\n",
        "import matplotlib.pyplot as plt\n",
        "import numpy as np\n",
        "import pandas as pd"
      ],
      "execution_count": 1,
      "outputs": []
    },
    {
      "cell_type": "code",
      "metadata": {
        "id": "U-k-NPL7JN-j"
      },
      "source": [
        "insurance=pd.read_csv(\"https://raw.githubusercontent.com/stedy/Machine-Learning-with-R-datasets/master/insurance.csv\")"
      ],
      "execution_count": 2,
      "outputs": []
    },
    {
      "cell_type": "code",
      "metadata": {
        "colab": {
          "base_uri": "https://localhost:8080/",
          "height": 203
        },
        "id": "bmswbjBuK-Bi",
        "outputId": "32072c0d-8ccb-4764-9553-57c2997444bd"
      },
      "source": [
        "insurance.head()"
      ],
      "execution_count": 3,
      "outputs": [
        {
          "output_type": "execute_result",
          "data": {
            "text/html": [
              "<div>\n",
              "<style scoped>\n",
              "    .dataframe tbody tr th:only-of-type {\n",
              "        vertical-align: middle;\n",
              "    }\n",
              "\n",
              "    .dataframe tbody tr th {\n",
              "        vertical-align: top;\n",
              "    }\n",
              "\n",
              "    .dataframe thead th {\n",
              "        text-align: right;\n",
              "    }\n",
              "</style>\n",
              "<table border=\"1\" class=\"dataframe\">\n",
              "  <thead>\n",
              "    <tr style=\"text-align: right;\">\n",
              "      <th></th>\n",
              "      <th>age</th>\n",
              "      <th>sex</th>\n",
              "      <th>bmi</th>\n",
              "      <th>children</th>\n",
              "      <th>smoker</th>\n",
              "      <th>region</th>\n",
              "      <th>charges</th>\n",
              "    </tr>\n",
              "  </thead>\n",
              "  <tbody>\n",
              "    <tr>\n",
              "      <th>0</th>\n",
              "      <td>19</td>\n",
              "      <td>female</td>\n",
              "      <td>27.900</td>\n",
              "      <td>0</td>\n",
              "      <td>yes</td>\n",
              "      <td>southwest</td>\n",
              "      <td>16884.92400</td>\n",
              "    </tr>\n",
              "    <tr>\n",
              "      <th>1</th>\n",
              "      <td>18</td>\n",
              "      <td>male</td>\n",
              "      <td>33.770</td>\n",
              "      <td>1</td>\n",
              "      <td>no</td>\n",
              "      <td>southeast</td>\n",
              "      <td>1725.55230</td>\n",
              "    </tr>\n",
              "    <tr>\n",
              "      <th>2</th>\n",
              "      <td>28</td>\n",
              "      <td>male</td>\n",
              "      <td>33.000</td>\n",
              "      <td>3</td>\n",
              "      <td>no</td>\n",
              "      <td>southeast</td>\n",
              "      <td>4449.46200</td>\n",
              "    </tr>\n",
              "    <tr>\n",
              "      <th>3</th>\n",
              "      <td>33</td>\n",
              "      <td>male</td>\n",
              "      <td>22.705</td>\n",
              "      <td>0</td>\n",
              "      <td>no</td>\n",
              "      <td>northwest</td>\n",
              "      <td>21984.47061</td>\n",
              "    </tr>\n",
              "    <tr>\n",
              "      <th>4</th>\n",
              "      <td>32</td>\n",
              "      <td>male</td>\n",
              "      <td>28.880</td>\n",
              "      <td>0</td>\n",
              "      <td>no</td>\n",
              "      <td>northwest</td>\n",
              "      <td>3866.85520</td>\n",
              "    </tr>\n",
              "  </tbody>\n",
              "</table>\n",
              "</div>"
            ],
            "text/plain": [
              "   age     sex     bmi  children smoker     region      charges\n",
              "0   19  female  27.900         0    yes  southwest  16884.92400\n",
              "1   18    male  33.770         1     no  southeast   1725.55230\n",
              "2   28    male  33.000         3     no  southeast   4449.46200\n",
              "3   33    male  22.705         0     no  northwest  21984.47061\n",
              "4   32    male  28.880         0     no  northwest   3866.85520"
            ]
          },
          "metadata": {},
          "execution_count": 3
        }
      ]
    },
    {
      "cell_type": "code",
      "metadata": {
        "colab": {
          "base_uri": "https://localhost:8080/",
          "height": 203
        },
        "id": "J4McYs0HLDsp",
        "outputId": "fad2a904-470c-43de-dfc8-49380529aa37"
      },
      "source": [
        "insurance_one_hot=pd.get_dummies(insurance)\n",
        "insurance_one_hot.head()"
      ],
      "execution_count": 4,
      "outputs": [
        {
          "output_type": "execute_result",
          "data": {
            "text/html": [
              "<div>\n",
              "<style scoped>\n",
              "    .dataframe tbody tr th:only-of-type {\n",
              "        vertical-align: middle;\n",
              "    }\n",
              "\n",
              "    .dataframe tbody tr th {\n",
              "        vertical-align: top;\n",
              "    }\n",
              "\n",
              "    .dataframe thead th {\n",
              "        text-align: right;\n",
              "    }\n",
              "</style>\n",
              "<table border=\"1\" class=\"dataframe\">\n",
              "  <thead>\n",
              "    <tr style=\"text-align: right;\">\n",
              "      <th></th>\n",
              "      <th>age</th>\n",
              "      <th>bmi</th>\n",
              "      <th>children</th>\n",
              "      <th>charges</th>\n",
              "      <th>sex_female</th>\n",
              "      <th>sex_male</th>\n",
              "      <th>smoker_no</th>\n",
              "      <th>smoker_yes</th>\n",
              "      <th>region_northeast</th>\n",
              "      <th>region_northwest</th>\n",
              "      <th>region_southeast</th>\n",
              "      <th>region_southwest</th>\n",
              "    </tr>\n",
              "  </thead>\n",
              "  <tbody>\n",
              "    <tr>\n",
              "      <th>0</th>\n",
              "      <td>19</td>\n",
              "      <td>27.900</td>\n",
              "      <td>0</td>\n",
              "      <td>16884.92400</td>\n",
              "      <td>1</td>\n",
              "      <td>0</td>\n",
              "      <td>0</td>\n",
              "      <td>1</td>\n",
              "      <td>0</td>\n",
              "      <td>0</td>\n",
              "      <td>0</td>\n",
              "      <td>1</td>\n",
              "    </tr>\n",
              "    <tr>\n",
              "      <th>1</th>\n",
              "      <td>18</td>\n",
              "      <td>33.770</td>\n",
              "      <td>1</td>\n",
              "      <td>1725.55230</td>\n",
              "      <td>0</td>\n",
              "      <td>1</td>\n",
              "      <td>1</td>\n",
              "      <td>0</td>\n",
              "      <td>0</td>\n",
              "      <td>0</td>\n",
              "      <td>1</td>\n",
              "      <td>0</td>\n",
              "    </tr>\n",
              "    <tr>\n",
              "      <th>2</th>\n",
              "      <td>28</td>\n",
              "      <td>33.000</td>\n",
              "      <td>3</td>\n",
              "      <td>4449.46200</td>\n",
              "      <td>0</td>\n",
              "      <td>1</td>\n",
              "      <td>1</td>\n",
              "      <td>0</td>\n",
              "      <td>0</td>\n",
              "      <td>0</td>\n",
              "      <td>1</td>\n",
              "      <td>0</td>\n",
              "    </tr>\n",
              "    <tr>\n",
              "      <th>3</th>\n",
              "      <td>33</td>\n",
              "      <td>22.705</td>\n",
              "      <td>0</td>\n",
              "      <td>21984.47061</td>\n",
              "      <td>0</td>\n",
              "      <td>1</td>\n",
              "      <td>1</td>\n",
              "      <td>0</td>\n",
              "      <td>0</td>\n",
              "      <td>1</td>\n",
              "      <td>0</td>\n",
              "      <td>0</td>\n",
              "    </tr>\n",
              "    <tr>\n",
              "      <th>4</th>\n",
              "      <td>32</td>\n",
              "      <td>28.880</td>\n",
              "      <td>0</td>\n",
              "      <td>3866.85520</td>\n",
              "      <td>0</td>\n",
              "      <td>1</td>\n",
              "      <td>1</td>\n",
              "      <td>0</td>\n",
              "      <td>0</td>\n",
              "      <td>1</td>\n",
              "      <td>0</td>\n",
              "      <td>0</td>\n",
              "    </tr>\n",
              "  </tbody>\n",
              "</table>\n",
              "</div>"
            ],
            "text/plain": [
              "   age     bmi  children  ...  region_northwest  region_southeast  region_southwest\n",
              "0   19  27.900         0  ...                 0                 0                 1\n",
              "1   18  33.770         1  ...                 0                 1                 0\n",
              "2   28  33.000         3  ...                 0                 1                 0\n",
              "3   33  22.705         0  ...                 1                 0                 0\n",
              "4   32  28.880         0  ...                 1                 0                 0\n",
              "\n",
              "[5 rows x 12 columns]"
            ]
          },
          "metadata": {},
          "execution_count": 4
        }
      ]
    },
    {
      "cell_type": "code",
      "metadata": {
        "id": "dRWSmeyTLV-b"
      },
      "source": [
        "x=insurance_one_hot.drop(\"charges\",axis=1)\n",
        "y=insurance_one_hot[\"charges\"]"
      ],
      "execution_count": 5,
      "outputs": []
    },
    {
      "cell_type": "code",
      "metadata": {
        "id": "7y0i7qi4LsNA"
      },
      "source": [
        "from sklearn.model_selection import train_test_split\n",
        "x_train,x_test,y_train,y_test=train_test_split(x,y,test_size=0.2,random_state=42) "
      ],
      "execution_count": 6,
      "outputs": []
    },
    {
      "cell_type": "code",
      "metadata": {
        "colab": {
          "base_uri": "https://localhost:8080/"
        },
        "id": "QsffKw-DMRBi",
        "outputId": "12df4e48-6424-4ad0-8dae-0601cddf8ec2"
      },
      "source": [
        "tf.random.set_seed(42)\n",
        "model=tf.keras.Sequential([\n",
        "                           tf.keras.layers.Dense(1),\n",
        "                           tf.keras.layers.Dense(1)\n",
        "])\n",
        "model.compile(loss=tf.keras.losses.mae,\n",
        "              optimizer=tf.keras.optimizers.SGD(),\n",
        "              metrics=[\"mae\"])\n",
        "model.fit(x_train,y_train,epochs=50)"
      ],
      "execution_count": 7,
      "outputs": [
        {
          "output_type": "stream",
          "name": "stdout",
          "text": [
            "Epoch 1/50\n",
            "34/34 [==============================] - 3s 2ms/step - loss: 8868.5928 - mae: 8868.5928\n",
            "Epoch 2/50\n",
            "34/34 [==============================] - 0s 2ms/step - loss: 7887.1597 - mae: 7887.1597\n",
            "Epoch 3/50\n",
            "34/34 [==============================] - 0s 2ms/step - loss: 7537.0942 - mae: 7537.0942\n",
            "Epoch 4/50\n",
            "34/34 [==============================] - 0s 3ms/step - loss: 7859.4336 - mae: 7859.4336\n",
            "Epoch 5/50\n",
            "34/34 [==============================] - 0s 3ms/step - loss: 7639.6704 - mae: 7639.6704\n",
            "Epoch 6/50\n",
            "34/34 [==============================] - 0s 3ms/step - loss: 7578.0845 - mae: 7578.0845\n",
            "Epoch 7/50\n",
            "34/34 [==============================] - 0s 3ms/step - loss: 7514.6162 - mae: 7514.6162\n",
            "Epoch 8/50\n",
            "34/34 [==============================] - 0s 3ms/step - loss: 7694.1338 - mae: 7694.1338\n",
            "Epoch 9/50\n",
            "34/34 [==============================] - 0s 3ms/step - loss: 7595.9116 - mae: 7595.9116\n",
            "Epoch 10/50\n",
            "34/34 [==============================] - 0s 3ms/step - loss: 7735.9116 - mae: 7735.9116\n",
            "Epoch 11/50\n",
            "34/34 [==============================] - 0s 3ms/step - loss: 7444.4185 - mae: 7444.4185\n",
            "Epoch 12/50\n",
            "34/34 [==============================] - 0s 3ms/step - loss: 7678.0332 - mae: 7678.0332\n",
            "Epoch 13/50\n",
            "34/34 [==============================] - 0s 3ms/step - loss: 7681.5845 - mae: 7681.5845\n",
            "Epoch 14/50\n",
            "34/34 [==============================] - 0s 3ms/step - loss: 7702.2837 - mae: 7702.2837\n",
            "Epoch 15/50\n",
            "34/34 [==============================] - 0s 3ms/step - loss: 7585.8926 - mae: 7585.8926\n",
            "Epoch 16/50\n",
            "34/34 [==============================] - 0s 3ms/step - loss: 7689.5352 - mae: 7689.5352\n",
            "Epoch 17/50\n",
            "34/34 [==============================] - 0s 3ms/step - loss: 7509.2026 - mae: 7509.2026\n",
            "Epoch 18/50\n",
            "34/34 [==============================] - 0s 3ms/step - loss: 7695.0083 - mae: 7695.0083\n",
            "Epoch 19/50\n",
            "34/34 [==============================] - 0s 3ms/step - loss: 7669.3740 - mae: 7669.3740\n",
            "Epoch 20/50\n",
            "34/34 [==============================] - 0s 3ms/step - loss: 7901.1357 - mae: 7901.1357\n",
            "Epoch 21/50\n",
            "34/34 [==============================] - 0s 3ms/step - loss: 7552.4814 - mae: 7552.4814\n",
            "Epoch 22/50\n",
            "34/34 [==============================] - 0s 3ms/step - loss: 7844.9961 - mae: 7844.9961\n",
            "Epoch 23/50\n",
            "34/34 [==============================] - 0s 3ms/step - loss: 7642.2495 - mae: 7642.2495\n",
            "Epoch 24/50\n",
            "34/34 [==============================] - 0s 3ms/step - loss: 7515.3091 - mae: 7515.3091\n",
            "Epoch 25/50\n",
            "34/34 [==============================] - 0s 3ms/step - loss: 7678.3511 - mae: 7678.3511\n",
            "Epoch 26/50\n",
            "34/34 [==============================] - 0s 3ms/step - loss: 7653.0283 - mae: 7653.0283\n",
            "Epoch 27/50\n",
            "34/34 [==============================] - 0s 3ms/step - loss: 7559.5454 - mae: 7559.5454\n",
            "Epoch 28/50\n",
            "34/34 [==============================] - 0s 3ms/step - loss: 7459.9404 - mae: 7459.9404\n",
            "Epoch 29/50\n",
            "34/34 [==============================] - 0s 3ms/step - loss: 7618.6172 - mae: 7618.6172\n",
            "Epoch 30/50\n",
            "34/34 [==============================] - 0s 3ms/step - loss: 7628.6260 - mae: 7628.6260\n",
            "Epoch 31/50\n",
            "34/34 [==============================] - 0s 3ms/step - loss: 7540.4888 - mae: 7540.4888\n",
            "Epoch 32/50\n",
            "34/34 [==============================] - 0s 3ms/step - loss: 7486.0171 - mae: 7486.0171\n",
            "Epoch 33/50\n",
            "34/34 [==============================] - 0s 3ms/step - loss: 7418.6636 - mae: 7418.6636\n",
            "Epoch 34/50\n",
            "34/34 [==============================] - 0s 3ms/step - loss: 7480.7305 - mae: 7480.7305\n",
            "Epoch 35/50\n",
            "34/34 [==============================] - 0s 3ms/step - loss: 7615.3110 - mae: 7615.3110\n",
            "Epoch 36/50\n",
            "34/34 [==============================] - 0s 3ms/step - loss: 7566.7886 - mae: 7566.7886\n",
            "Epoch 37/50\n",
            "34/34 [==============================] - 0s 3ms/step - loss: 7661.0884 - mae: 7661.0884\n",
            "Epoch 38/50\n",
            "34/34 [==============================] - 0s 3ms/step - loss: 7522.6816 - mae: 7522.6816\n",
            "Epoch 39/50\n",
            "34/34 [==============================] - 0s 3ms/step - loss: 7556.0708 - mae: 7556.0708\n",
            "Epoch 40/50\n",
            "34/34 [==============================] - 0s 3ms/step - loss: 7433.5664 - mae: 7433.5664\n",
            "Epoch 41/50\n",
            "34/34 [==============================] - 0s 3ms/step - loss: 7722.4321 - mae: 7722.4321\n",
            "Epoch 42/50\n",
            "34/34 [==============================] - 0s 3ms/step - loss: 7344.2705 - mae: 7344.2705\n",
            "Epoch 43/50\n",
            "34/34 [==============================] - 0s 3ms/step - loss: 7597.4326 - mae: 7597.4326\n",
            "Epoch 44/50\n",
            "34/34 [==============================] - 0s 3ms/step - loss: 7338.0142 - mae: 7338.0142\n",
            "Epoch 45/50\n",
            "34/34 [==============================] - 0s 3ms/step - loss: 7510.3472 - mae: 7510.3472\n",
            "Epoch 46/50\n",
            "34/34 [==============================] - 0s 3ms/step - loss: 7413.5801 - mae: 7413.5801\n",
            "Epoch 47/50\n",
            "34/34 [==============================] - 0s 3ms/step - loss: 7451.0391 - mae: 7451.0391\n",
            "Epoch 48/50\n",
            "34/34 [==============================] - 0s 3ms/step - loss: 7340.5386 - mae: 7340.5386\n",
            "Epoch 49/50\n",
            "34/34 [==============================] - 0s 3ms/step - loss: 7481.9966 - mae: 7481.9966\n",
            "Epoch 50/50\n",
            "34/34 [==============================] - 0s 3ms/step - loss: 7468.2847 - mae: 7468.2847\n"
          ]
        },
        {
          "output_type": "execute_result",
          "data": {
            "text/plain": [
              "<keras.callbacks.History at 0x7f1fe033e890>"
            ]
          },
          "metadata": {},
          "execution_count": 7
        }
      ]
    },
    {
      "cell_type": "code",
      "metadata": {
        "colab": {
          "base_uri": "https://localhost:8080/"
        },
        "id": "lIWwL_3kNBHj",
        "outputId": "bc57d8b8-fbaf-4dc6-88eb-2102e4d935c4"
      },
      "source": [
        "model.evaluate(x_test,y_test)"
      ],
      "execution_count": 8,
      "outputs": [
        {
          "output_type": "stream",
          "name": "stdout",
          "text": [
            "9/9 [==============================] - 0s 2ms/step - loss: 8374.4414 - mae: 8374.4414\n"
          ]
        },
        {
          "output_type": "execute_result",
          "data": {
            "text/plain": [
              "[8374.44140625, 8374.44140625]"
            ]
          },
          "metadata": {},
          "execution_count": 8
        }
      ]
    },
    {
      "cell_type": "code",
      "metadata": {
        "colab": {
          "base_uri": "https://localhost:8080/"
        },
        "id": "lDKb8CA1Q_6g",
        "outputId": "852ee665-69b6-4cd8-a07b-2ab27ffb3f34"
      },
      "source": [
        "model_2=tf.keras.Sequential([\n",
        "                             tf.keras.layers.Dense(100),\n",
        "                             tf.keras.layers.Dense(100),\n",
        "                             tf.keras.layers.Dense(1)\n",
        "])\n",
        "model_2.compile(loss=tf.keras.losses.mae,\n",
        "                optimizer=tf.keras.optimizers.Adam(),\n",
        "                metrics=[\"mae\"])\n",
        "history=model_2.fit(x_train,y_train,epochs=50)"
      ],
      "execution_count": 11,
      "outputs": [
        {
          "output_type": "stream",
          "name": "stdout",
          "text": [
            "Epoch 1/50\n",
            "34/34 [==============================] - 1s 3ms/step - loss: 13197.8926 - mae: 13197.8926\n",
            "Epoch 2/50\n",
            "34/34 [==============================] - 0s 3ms/step - loss: 12469.8154 - mae: 12469.8154\n",
            "Epoch 3/50\n",
            "34/34 [==============================] - 0s 3ms/step - loss: 10440.8271 - mae: 10440.8271\n",
            "Epoch 4/50\n",
            "34/34 [==============================] - 0s 3ms/step - loss: 7877.2432 - mae: 7877.2432\n",
            "Epoch 5/50\n",
            "34/34 [==============================] - 0s 3ms/step - loss: 7443.4990 - mae: 7443.4990\n",
            "Epoch 6/50\n",
            "34/34 [==============================] - 0s 3ms/step - loss: 7395.1494 - mae: 7395.1494\n",
            "Epoch 7/50\n",
            "34/34 [==============================] - 0s 3ms/step - loss: 7343.1528 - mae: 7343.1528\n",
            "Epoch 8/50\n",
            "34/34 [==============================] - 0s 3ms/step - loss: 7301.9131 - mae: 7301.9131\n",
            "Epoch 9/50\n",
            "34/34 [==============================] - 0s 4ms/step - loss: 7259.3877 - mae: 7259.3877\n",
            "Epoch 10/50\n",
            "34/34 [==============================] - 0s 4ms/step - loss: 7217.2563 - mae: 7217.2563\n",
            "Epoch 11/50\n",
            "34/34 [==============================] - 0s 4ms/step - loss: 7176.7500 - mae: 7176.7500\n",
            "Epoch 12/50\n",
            "34/34 [==============================] - 0s 4ms/step - loss: 7124.7573 - mae: 7124.7573\n",
            "Epoch 13/50\n",
            "34/34 [==============================] - 0s 4ms/step - loss: 7074.3481 - mae: 7074.3481\n",
            "Epoch 14/50\n",
            "34/34 [==============================] - 0s 3ms/step - loss: 7021.3828 - mae: 7021.3828\n",
            "Epoch 15/50\n",
            "34/34 [==============================] - 0s 3ms/step - loss: 6972.7856 - mae: 6972.7856\n",
            "Epoch 16/50\n",
            "34/34 [==============================] - 0s 4ms/step - loss: 6914.2734 - mae: 6914.2734\n",
            "Epoch 17/50\n",
            "34/34 [==============================] - 0s 4ms/step - loss: 6861.4946 - mae: 6861.4946\n",
            "Epoch 18/50\n",
            "34/34 [==============================] - 0s 4ms/step - loss: 6797.9937 - mae: 6797.9937\n",
            "Epoch 19/50\n",
            "34/34 [==============================] - 0s 4ms/step - loss: 6734.6787 - mae: 6734.6787\n",
            "Epoch 20/50\n",
            "34/34 [==============================] - 0s 4ms/step - loss: 6673.5835 - mae: 6673.5835\n",
            "Epoch 21/50\n",
            "34/34 [==============================] - 0s 4ms/step - loss: 6617.1191 - mae: 6617.1191\n",
            "Epoch 22/50\n",
            "34/34 [==============================] - 0s 4ms/step - loss: 6575.4673 - mae: 6575.4673\n",
            "Epoch 23/50\n",
            "34/34 [==============================] - 0s 4ms/step - loss: 6533.9697 - mae: 6533.9697\n",
            "Epoch 24/50\n",
            "34/34 [==============================] - 0s 4ms/step - loss: 6509.4448 - mae: 6509.4448\n",
            "Epoch 25/50\n",
            "34/34 [==============================] - 0s 4ms/step - loss: 6477.1743 - mae: 6477.1743\n",
            "Epoch 26/50\n",
            "34/34 [==============================] - 0s 4ms/step - loss: 6458.7783 - mae: 6458.7783\n",
            "Epoch 27/50\n",
            "34/34 [==============================] - 0s 3ms/step - loss: 6435.7100 - mae: 6435.7100\n",
            "Epoch 28/50\n",
            "34/34 [==============================] - 0s 4ms/step - loss: 6411.0264 - mae: 6411.0264\n",
            "Epoch 29/50\n",
            "34/34 [==============================] - 0s 3ms/step - loss: 6389.1416 - mae: 6389.1416\n",
            "Epoch 30/50\n",
            "34/34 [==============================] - 0s 3ms/step - loss: 6368.5151 - mae: 6368.5151\n",
            "Epoch 31/50\n",
            "34/34 [==============================] - 0s 4ms/step - loss: 6340.9985 - mae: 6340.9985\n",
            "Epoch 32/50\n",
            "34/34 [==============================] - 0s 3ms/step - loss: 6318.0107 - mae: 6318.0107\n",
            "Epoch 33/50\n",
            "34/34 [==============================] - 0s 3ms/step - loss: 6290.3965 - mae: 6290.3965\n",
            "Epoch 34/50\n",
            "34/34 [==============================] - 0s 3ms/step - loss: 6264.9805 - mae: 6264.9805\n",
            "Epoch 35/50\n",
            "34/34 [==============================] - 0s 3ms/step - loss: 6236.8096 - mae: 6236.8096\n",
            "Epoch 36/50\n",
            "34/34 [==============================] - 0s 3ms/step - loss: 6207.3921 - mae: 6207.3921\n",
            "Epoch 37/50\n",
            "34/34 [==============================] - 0s 4ms/step - loss: 6170.3599 - mae: 6170.3599\n",
            "Epoch 38/50\n",
            "34/34 [==============================] - 0s 4ms/step - loss: 6141.3838 - mae: 6141.3838\n",
            "Epoch 39/50\n",
            "34/34 [==============================] - 0s 3ms/step - loss: 6114.6011 - mae: 6114.6011\n",
            "Epoch 40/50\n",
            "34/34 [==============================] - 0s 3ms/step - loss: 6065.9131 - mae: 6065.9131\n",
            "Epoch 41/50\n",
            "34/34 [==============================] - 0s 3ms/step - loss: 6026.0015 - mae: 6026.0015\n",
            "Epoch 42/50\n",
            "34/34 [==============================] - 0s 3ms/step - loss: 5978.3369 - mae: 5978.3369\n",
            "Epoch 43/50\n",
            "34/34 [==============================] - 0s 3ms/step - loss: 5940.3062 - mae: 5940.3062\n",
            "Epoch 44/50\n",
            "34/34 [==============================] - 0s 3ms/step - loss: 5881.4194 - mae: 5881.4194\n",
            "Epoch 45/50\n",
            "34/34 [==============================] - 0s 3ms/step - loss: 5826.7290 - mae: 5826.7290\n",
            "Epoch 46/50\n",
            "34/34 [==============================] - 0s 3ms/step - loss: 5784.9521 - mae: 5784.9521\n",
            "Epoch 47/50\n",
            "34/34 [==============================] - 0s 3ms/step - loss: 5708.5757 - mae: 5708.5757\n",
            "Epoch 48/50\n",
            "34/34 [==============================] - 0s 3ms/step - loss: 5637.5376 - mae: 5637.5376\n",
            "Epoch 49/50\n",
            "34/34 [==============================] - 0s 3ms/step - loss: 5553.5933 - mae: 5553.5933\n",
            "Epoch 50/50\n",
            "34/34 [==============================] - 0s 3ms/step - loss: 5473.9834 - mae: 5473.9834\n"
          ]
        }
      ]
    },
    {
      "cell_type": "code",
      "metadata": {
        "colab": {
          "base_uri": "https://localhost:8080/"
        },
        "id": "-tfr0VnJR0Aj",
        "outputId": "1b019022-1897-483b-a226-13a6ca74de51"
      },
      "source": [
        "model_2.evaluate(x_test,y_test)"
      ],
      "execution_count": 12,
      "outputs": [
        {
          "output_type": "stream",
          "name": "stdout",
          "text": [
            "9/9 [==============================] - 0s 4ms/step - loss: 5307.3906 - mae: 5307.3906\n"
          ]
        },
        {
          "output_type": "execute_result",
          "data": {
            "text/plain": [
              "[5307.390625, 5307.390625]"
            ]
          },
          "metadata": {},
          "execution_count": 12
        }
      ]
    },
    {
      "cell_type": "code",
      "metadata": {
        "colab": {
          "base_uri": "https://localhost:8080/",
          "height": 296
        },
        "id": "XaS10n2MSB7V",
        "outputId": "6fa1811b-1ccf-4e92-ce90-3c01afb41429"
      },
      "source": [
        "pd.DataFrame(history.history).plot()\n",
        "plt.ylabel(\"loss\")\n",
        "plt.xlabel(\"epochs\")"
      ],
      "execution_count": 13,
      "outputs": [
        {
          "output_type": "execute_result",
          "data": {
            "text/plain": [
              "Text(0.5, 0, 'epochs')"
            ]
          },
          "metadata": {},
          "execution_count": 13
        },
        {
          "output_type": "display_data",
          "data": {
            "image/png": "[encoded data removed]",
            "text/plain": [
              "<Figure size 432x288 with 1 Axes>"
            ]
          },
          "metadata": {
            "needs_background": "light"
          }
        }
      ]
    },
    {
      "cell_type": "code",
      "metadata": {
        "id": "AVEgkoBfST_I"
      },
      "source": [
        "from sklearn.preprocessing import MinMaxScaler,OneHotEncoder\n",
        "from sklearn.compose import make_column_transformer\n",
        "ct=make_column_transformer(\n",
        "    (MinMaxScaler(),[\"age\",\"bmi\",\"children\"]),\n",
        "    (OneHotEncoder(handle_unknown=\"ignore\"),[\"sex\",\"smoker\",\"region\"])\n",
        ")\n",
        "x=insurance.drop(\"charges\",axis=1)\n",
        "y=insurance[\"charges\"]\n",
        "x_train,x_test,y_train,y_test=train_test_split(x,y,test_size=0.2,random_state=42) \n",
        "ct.fit(x_train)\n",
        "x_train_normal=ct.transform(x_train)\n",
        "x_test_normal=ct.transform(x_test)"
      ],
      "execution_count": 14,
      "outputs": []
    },
    {
      "cell_type": "code",
      "metadata": {
        "colab": {
          "base_uri": "https://localhost:8080/"
        },
        "id": "pVVypTmhWQnN",
        "outputId": "2a18e49f-1ff0-499d-f985-e457bb2f7fa7"
      },
      "source": [
        "x_train_normal[0]"
      ],
      "execution_count": 16,
      "outputs": [
        {
          "output_type": "execute_result",
          "data": {
            "text/plain": [
              "array([0.60869565, 0.10734463, 0.4       , 1.        , 0.        ,\n",
              "       1.        , 0.        , 0.        , 1.        , 0.        ,\n",
              "       0.        ])"
            ]
          },
          "metadata": {},
          "execution_count": 16
        }
      ]
    },
    {
      "cell_type": "code",
      "metadata": {
        "colab": {
          "base_uri": "https://localhost:8080/"
        },
        "id": "OQfW12QGWZL5",
        "outputId": "38a220a0-b32b-4a82-9b2a-b93f1c9ff9f2"
      },
      "source": [
        "tf.random.set_seed(42)\n",
        "model_3=tf.keras.Sequential([\n",
        "    tf.keras.layers.Dense(100),\n",
        "    tf.keras.layers.Dense(100),\n",
        "    tf.keras.layers.Dense(1)\n",
        "])\n",
        "model_3.compile(loss=tf.keras.losses.mae,\n",
        "                optimizer=tf.keras.optimizers.Adam(),\n",
        "                metrics=[\"mae\"])\n",
        "model_3.fit(x_train_normal,y_train,epochs=50)"
      ],
      "execution_count": 19,
      "outputs": [
        {
          "output_type": "stream",
          "name": "stdout",
          "text": [
            "Epoch 1/50\n",
            "34/34 [==============================] - 1s 3ms/step - loss: 13340.4238 - mae: 13340.4238\n",
            "Epoch 2/50\n",
            "34/34 [==============================] - 0s 3ms/step - loss: 13304.7188 - mae: 13304.7188\n",
            "Epoch 3/50\n",
            "34/34 [==============================] - 0s 3ms/step - loss: 13178.4893 - mae: 13178.4893\n",
            "Epoch 4/50\n",
            "34/34 [==============================] - 0s 3ms/step - loss: 12868.2773 - mae: 12868.2773\n",
            "Epoch 5/50\n",
            "34/34 [==============================] - 0s 3ms/step - loss: 12269.2334 - mae: 12269.2334\n",
            "Epoch 6/50\n",
            "34/34 [==============================] - 0s 3ms/step - loss: 11321.8965 - mae: 11321.8965\n",
            "Epoch 7/50\n",
            "34/34 [==============================] - 0s 3ms/step - loss: 10218.4590 - mae: 10218.4590\n",
            "Epoch 8/50\n",
            "34/34 [==============================] - 0s 3ms/step - loss: 9182.0332 - mae: 9182.0332\n",
            "Epoch 9/50\n",
            "34/34 [==============================] - 0s 3ms/step - loss: 8458.1787 - mae: 8458.1787\n",
            "Epoch 10/50\n",
            "34/34 [==============================] - 0s 3ms/step - loss: 8055.3774 - mae: 8055.3774\n",
            "Epoch 11/50\n",
            "34/34 [==============================] - 0s 4ms/step - loss: 7886.5391 - mae: 7886.5391\n",
            "Epoch 12/50\n",
            "34/34 [==============================] - 0s 3ms/step - loss: 7778.5776 - mae: 7778.5776\n",
            "Epoch 13/50\n",
            "34/34 [==============================] - 0s 3ms/step - loss: 7690.8481 - mae: 7690.8481\n",
            "Epoch 14/50\n",
            "34/34 [==============================] - 0s 3ms/step - loss: 7596.6543 - mae: 7596.6543\n",
            "Epoch 15/50\n",
            "34/34 [==============================] - 0s 3ms/step - loss: 7504.1963 - mae: 7504.1963\n",
            "Epoch 16/50\n",
            "34/34 [==============================] - 0s 4ms/step - loss: 7408.9077 - mae: 7408.9077\n",
            "Epoch 17/50\n",
            "34/34 [==============================] - 0s 3ms/step - loss: 7306.5938 - mae: 7306.5938\n",
            "Epoch 18/50\n",
            "34/34 [==============================] - 0s 3ms/step - loss: 7200.9854 - mae: 7200.9854\n",
            "Epoch 19/50\n",
            "34/34 [==============================] - 0s 3ms/step - loss: 7088.3433 - mae: 7088.3433\n",
            "Epoch 20/50\n",
            "34/34 [==============================] - 0s 3ms/step - loss: 6967.4751 - mae: 6967.4751\n",
            "Epoch 21/50\n",
            "34/34 [==============================] - 0s 3ms/step - loss: 6840.0283 - mae: 6840.0283\n",
            "Epoch 22/50\n",
            "34/34 [==============================] - 0s 3ms/step - loss: 6697.2134 - mae: 6697.2134\n",
            "Epoch 23/50\n",
            "34/34 [==============================] - 0s 3ms/step - loss: 6540.8159 - mae: 6540.8159\n",
            "Epoch 24/50\n",
            "34/34 [==============================] - 0s 3ms/step - loss: 6373.2793 - mae: 6373.2793\n",
            "Epoch 25/50\n",
            "34/34 [==============================] - 0s 3ms/step - loss: 6199.5298 - mae: 6199.5298\n",
            "Epoch 26/50\n",
            "34/34 [==============================] - 0s 3ms/step - loss: 5974.2290 - mae: 5974.2290\n",
            "Epoch 27/50\n",
            "34/34 [==============================] - 0s 3ms/step - loss: 5747.9106 - mae: 5747.9106\n",
            "Epoch 28/50\n",
            "34/34 [==============================] - 0s 3ms/step - loss: 5503.9229 - mae: 5503.9229\n",
            "Epoch 29/50\n",
            "34/34 [==============================] - 0s 3ms/step - loss: 5242.3237 - mae: 5242.3237\n",
            "Epoch 30/50\n",
            "34/34 [==============================] - 0s 3ms/step - loss: 4968.8149 - mae: 4968.8149\n",
            "Epoch 31/50\n",
            "34/34 [==============================] - 0s 4ms/step - loss: 4688.7437 - mae: 4688.7437\n",
            "Epoch 32/50\n",
            "34/34 [==============================] - 0s 3ms/step - loss: 4430.6021 - mae: 4430.6021\n",
            "Epoch 33/50\n",
            "34/34 [==============================] - 0s 3ms/step - loss: 4216.4839 - mae: 4216.4839\n",
            "Epoch 34/50\n",
            "34/34 [==============================] - 0s 3ms/step - loss: 4021.4541 - mae: 4021.4541\n",
            "Epoch 35/50\n",
            "34/34 [==============================] - 0s 3ms/step - loss: 3870.4375 - mae: 3870.4375\n",
            "Epoch 36/50\n",
            "34/34 [==============================] - 0s 3ms/step - loss: 3764.9255 - mae: 3764.9255\n",
            "Epoch 37/50\n",
            "34/34 [==============================] - 0s 3ms/step - loss: 3710.5715 - mae: 3710.5715\n",
            "Epoch 38/50\n",
            "34/34 [==============================] - 0s 4ms/step - loss: 3687.7473 - mae: 3687.7473\n",
            "Epoch 39/50\n",
            "34/34 [==============================] - 0s 3ms/step - loss: 3670.6694 - mae: 3670.6694\n",
            "Epoch 40/50\n",
            "34/34 [==============================] - 0s 3ms/step - loss: 3665.3555 - mae: 3665.3555\n",
            "Epoch 41/50\n",
            "34/34 [==============================] - 0s 3ms/step - loss: 3655.5037 - mae: 3655.5037\n",
            "Epoch 42/50\n",
            "34/34 [==============================] - 0s 3ms/step - loss: 3663.7031 - mae: 3663.7031\n",
            "Epoch 43/50\n",
            "34/34 [==============================] - 0s 3ms/step - loss: 3655.8245 - mae: 3655.8245\n",
            "Epoch 44/50\n",
            "34/34 [==============================] - 0s 4ms/step - loss: 3647.2397 - mae: 3647.2397\n",
            "Epoch 45/50\n",
            "34/34 [==============================] - 0s 4ms/step - loss: 3642.5220 - mae: 3642.5220\n",
            "Epoch 46/50\n",
            "34/34 [==============================] - 0s 4ms/step - loss: 3641.3706 - mae: 3641.3706\n",
            "Epoch 47/50\n",
            "34/34 [==============================] - 0s 3ms/step - loss: 3639.2363 - mae: 3639.2363\n",
            "Epoch 48/50\n",
            "34/34 [==============================] - 0s 3ms/step - loss: 3632.9507 - mae: 3632.9507\n",
            "Epoch 49/50\n",
            "34/34 [==============================] - 0s 3ms/step - loss: 3631.5461 - mae: 3631.5461\n",
            "Epoch 50/50\n",
            "34/34 [==============================] - 0s 3ms/step - loss: 3625.5813 - mae: 3625.5813\n"
          ]
        },
        {
          "output_type": "execute_result",
          "data": {
            "text/plain": [
              "<keras.callbacks.History at 0x7f1f712e94d0>"
            ]
          },
          "metadata": {},
          "execution_count": 19
        }
      ]
    },
    {
      "cell_type": "code",
      "metadata": {
        "colab": {
          "base_uri": "https://localhost:8080/"
        },
        "id": "yn-OYfUibrNh",
        "outputId": "765cbef2-9879-4e38-fb1d-16311bbfa290"
      },
      "source": [
        "model_3.evaluate(x_test_normal,y_test)"
      ],
      "execution_count": 21,
      "outputs": [
        {
          "output_type": "stream",
          "name": "stdout",
          "text": [
            "9/9 [==============================] - 0s 4ms/step - loss: 3435.0044 - mae: 3435.0044\n"
          ]
        },
        {
          "output_type": "execute_result",
          "data": {
            "text/plain": [
              "[3435.00439453125, 3435.00439453125]"
            ]
          },
          "metadata": {},
          "execution_count": 21
        }
      ]
    },
    {
      "cell_type": "code",
      "metadata": {
        "id": "mwBaKS8ZcFUC"
      },
      "source": [
        ""
      ],
      "execution_count": null,
      "outputs": []
    }
  ]
}