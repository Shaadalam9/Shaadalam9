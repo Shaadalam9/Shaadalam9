{
  "cells": [
    {
      "cell_type": "markdown",
      "metadata": {
        "id": "view-in-github",
        "colab_type": "text"
      },
      "source": [
        "<a href=\"https://colab.research.google.com/github/Shaadalam9/Shaadalam9/blob/main/Tutorial_4_DQN_and_AC.ipynb\" target=\"_parent\"><img src=\"https://colab.research.google.com/assets/colab-badge.svg\" alt=\"Open In Colab\"/></a>"
      ]
    },
    {
      "cell_type": "markdown",
      "metadata": {
        "id": "pn7PKu9r0asK"
      },
      "source": [
        "#**Tutorial 4 - DQN and Actor-Critic**\n",
        "\n",
        "Please follow this tutorial to understand the structure (code) of DQNs & get familiar with Actor Critic methods.\n",
        "\n",
        "\n",
        "### References:\n",
        "\n",
        "Please follow [Human-level control through deep reinforcement learning](https://www.nature.com/articles/nature14236) for the original publication as well as the psuedocode. Watch Prof. Ravi's lectures on moodle or nptel for further understanding the core concepts. Contact the TAs for further resources if needed. \n",
        "\n",
        "\n",
        "##**Part 1: DQN**"
      ]
    },
    {
      "cell_type": "code",
      "execution_count": null,
      "metadata": {
        "colab": {
          "base_uri": "https://localhost:8080/"
        },
        "id": "azUjb7UK4Yfh",
        "outputId": "13188744-ac07-45f1-a296-46e6c0f0d1c1"
      },
      "outputs": [
        {
          "name": "stdout",
          "output_type": "stream",
          "text": [
            "Requirement already satisfied: setuptools in /usr/local/lib/python3.7/dist-packages (60.9.3)\n"
          ]
        }
      ],
      "source": [
        "'''\n",
        "Installing packages for rendering the game on Colab\n",
        "'''\n",
        "\n",
        "!pip install gym pyvirtualdisplay > /dev/null 2>&1\n",
        "!apt-get install -y xvfb python-opengl ffmpeg > /dev/null 2>&1\n",
        "!apt-get update > /dev/null 2>&1\n",
        "!apt-get install cmake > /dev/null 2>&1\n",
        "!pip install --upgrade setuptools 2>&1\n",
        "!pip install ez_setup > /dev/null 2>&1\n",
        "!pip install gym[atari] > /dev/null 2>&1\n",
        "!pip install git+https://github.com/tensorflow/docs > /dev/null 2>&1"
      ]
    },
    {
      "cell_type": "code",
      "execution_count": null,
      "metadata": {
        "colab": {
          "base_uri": "https://localhost:8080/"
        },
        "id": "dfCgocAHOZ6n",
        "outputId": "a82b1b50-7a0a-474e-e20f-9df75c370dcc"
      },
      "outputs": [
        {
          "name": "stdout",
          "output_type": "stream",
          "text": [
            "Requirement already satisfied: tensorflow-gpu in /usr/local/lib/python3.7/dist-packages (2.8.0)\n",
            "Requirement already satisfied: typing-extensions>=3.6.6 in /usr/local/lib/python3.7/dist-packages (from tensorflow-gpu) (3.10.0.2)\n",
            "Requirement already satisfied: google-pasta>=0.1.1 in /usr/local/lib/python3.7/dist-packages (from tensorflow-gpu) (0.2.0)\n",
            "Requirement already satisfied: flatbuffers>=1.12 in /usr/local/lib/python3.7/dist-packages (from tensorflow-gpu) (2.0)\n",
            "Requirement already satisfied: setuptools in /usr/local/lib/python3.7/dist-packages (from tensorflow-gpu) (60.9.3)\n",
            "Requirement already satisfied: libclang>=9.0.1 in /usr/local/lib/python3.7/dist-packages (from tensorflow-gpu) (13.0.0)\n",
            "Requirement already satisfied: keras-preprocessing>=1.1.1 in /usr/local/lib/python3.7/dist-packages (from tensorflow-gpu) (1.1.2)\n",
            "Requirement already satisfied: termcolor>=1.1.0 in /usr/local/lib/python3.7/dist-packages (from tensorflow-gpu) (1.1.0)\n",
            "Requirement already satisfied: tensorboard<2.9,>=2.8 in /usr/local/lib/python3.7/dist-packages (from tensorflow-gpu) (2.8.0)\n",
            "Requirement already satisfied: numpy>=1.20 in /usr/local/lib/python3.7/dist-packages (from tensorflow-gpu) (1.21.5)\n",
            "Requirement already satisfied: six>=1.12.0 in /usr/local/lib/python3.7/dist-packages (from tensorflow-gpu) (1.15.0)\n",
            "Requirement already satisfied: wrapt>=1.11.0 in /usr/local/lib/python3.7/dist-packages (from tensorflow-gpu) (1.13.3)\n",
            "Requirement already satisfied: tf-estimator-nightly==2.8.0.dev2021122109 in /usr/local/lib/python3.7/dist-packages (from tensorflow-gpu) (2.8.0.dev2021122109)\n",
            "Requirement already satisfied: absl-py>=0.4.0 in /usr/local/lib/python3.7/dist-packages (from tensorflow-gpu) (1.0.0)\n",
            "Requirement already satisfied: grpcio<2.0,>=1.24.3 in /usr/local/lib/python3.7/dist-packages (from tensorflow-gpu) (1.44.0)\n",
            "Requirement already satisfied: gast>=0.2.1 in /usr/local/lib/python3.7/dist-packages (from tensorflow-gpu) (0.5.3)\n",
            "Requirement already satisfied: tensorflow-io-gcs-filesystem>=0.23.1 in /usr/local/lib/python3.7/dist-packages (from tensorflow-gpu) (0.24.0)\n",
            "Requirement already satisfied: keras<2.9,>=2.8.0rc0 in /usr/local/lib/python3.7/dist-packages (from tensorflow-gpu) (2.8.0)\n",
            "Requirement already satisfied: h5py>=2.9.0 in /usr/local/lib/python3.7/dist-packages (from tensorflow-gpu) (3.1.0)\n",
            "Requirement already satisfied: protobuf>=3.9.2 in /usr/local/lib/python3.7/dist-packages (from tensorflow-gpu) (3.17.3)\n",
            "Requirement already satisfied: astunparse>=1.6.0 in /usr/local/lib/python3.7/dist-packages (from tensorflow-gpu) (1.6.3)\n",
            "Requirement already satisfied: opt-einsum>=2.3.2 in /usr/local/lib/python3.7/dist-packages (from tensorflow-gpu) (3.3.0)\n",
            "Requirement already satisfied: wheel<1.0,>=0.23.0 in /usr/local/lib/python3.7/dist-packages (from astunparse>=1.6.0->tensorflow-gpu) (0.37.1)\n",
            "Requirement already satisfied: cached-property in /usr/local/lib/python3.7/dist-packages (from h5py>=2.9.0->tensorflow-gpu) (1.5.2)\n",
            "Requirement already satisfied: markdown>=2.6.8 in /usr/local/lib/python3.7/dist-packages (from tensorboard<2.9,>=2.8->tensorflow-gpu) (3.3.6)\n",
            "Requirement already satisfied: werkzeug>=0.11.15 in /usr/local/lib/python3.7/dist-packages (from tensorboard<2.9,>=2.8->tensorflow-gpu) (1.0.1)\n",
            "Requirement already satisfied: google-auth-oauthlib<0.5,>=0.4.1 in /usr/local/lib/python3.7/dist-packages (from tensorboard<2.9,>=2.8->tensorflow-gpu) (0.4.6)\n",
            "Requirement already satisfied: tensorboard-data-server<0.7.0,>=0.6.0 in /usr/local/lib/python3.7/dist-packages (from tensorboard<2.9,>=2.8->tensorflow-gpu) (0.6.1)\n",
            "Requirement already satisfied: google-auth<3,>=1.6.3 in /usr/local/lib/python3.7/dist-packages (from tensorboard<2.9,>=2.8->tensorflow-gpu) (1.35.0)\n",
            "Requirement already satisfied: requests<3,>=2.21.0 in /usr/local/lib/python3.7/dist-packages (from tensorboard<2.9,>=2.8->tensorflow-gpu) (2.23.0)\n",
            "Requirement already satisfied: tensorboard-plugin-wit>=1.6.0 in /usr/local/lib/python3.7/dist-packages (from tensorboard<2.9,>=2.8->tensorflow-gpu) (1.8.1)\n",
            "Requirement already satisfied: cachetools<5.0,>=2.0.0 in /usr/local/lib/python3.7/dist-packages (from google-auth<3,>=1.6.3->tensorboard<2.9,>=2.8->tensorflow-gpu) (4.2.4)\n",
            "Requirement already satisfied: pyasn1-modules>=0.2.1 in /usr/local/lib/python3.7/dist-packages (from google-auth<3,>=1.6.3->tensorboard<2.9,>=2.8->tensorflow-gpu) (0.2.8)\n",
            "Requirement already satisfied: rsa<5,>=3.1.4 in /usr/local/lib/python3.7/dist-packages (from google-auth<3,>=1.6.3->tensorboard<2.9,>=2.8->tensorflow-gpu) (4.8)\n",
            "Requirement already satisfied: requests-oauthlib>=0.7.0 in /usr/local/lib/python3.7/dist-packages (from google-auth-oauthlib<0.5,>=0.4.1->tensorboard<2.9,>=2.8->tensorflow-gpu) (1.3.1)\n",
            "Requirement already satisfied: importlib-metadata>=4.4 in /usr/local/lib/python3.7/dist-packages (from markdown>=2.6.8->tensorboard<2.9,>=2.8->tensorflow-gpu) (4.11.2)\n",
            "Requirement already satisfied: zipp>=0.5 in /usr/local/lib/python3.7/dist-packages (from importlib-metadata>=4.4->markdown>=2.6.8->tensorboard<2.9,>=2.8->tensorflow-gpu) (3.7.0)\n",
            "Requirement already satisfied: pyasn1<0.5.0,>=0.4.6 in /usr/local/lib/python3.7/dist-packages (from pyasn1-modules>=0.2.1->google-auth<3,>=1.6.3->tensorboard<2.9,>=2.8->tensorflow-gpu) (0.4.8)\n",
            "Requirement already satisfied: chardet<4,>=3.0.2 in /usr/local/lib/python3.7/dist-packages (from requests<3,>=2.21.0->tensorboard<2.9,>=2.8->tensorflow-gpu) (3.0.4)\n",
            "Requirement already satisfied: certifi>=2017.4.17 in /usr/local/lib/python3.7/dist-packages (from requests<3,>=2.21.0->tensorboard<2.9,>=2.8->tensorflow-gpu) (2021.10.8)\n",
            "Requirement already satisfied: idna<3,>=2.5 in /usr/local/lib/python3.7/dist-packages (from requests<3,>=2.21.0->tensorboard<2.9,>=2.8->tensorflow-gpu) (2.10)\n",
            "Requirement already satisfied: urllib3!=1.25.0,!=1.25.1,<1.26,>=1.21.1 in /usr/local/lib/python3.7/dist-packages (from requests<3,>=2.21.0->tensorboard<2.9,>=2.8->tensorflow-gpu) (1.24.3)\n",
            "Requirement already satisfied: oauthlib>=3.0.0 in /usr/local/lib/python3.7/dist-packages (from requests-oauthlib>=0.7.0->google-auth-oauthlib<0.5,>=0.4.1->tensorboard<2.9,>=2.8->tensorflow-gpu) (3.2.0)\n"
          ]
        }
      ],
      "source": [
        "!pip install tensorflow-gpu"
      ]
    },
    {
      "cell_type": "code",
      "execution_count": null,
      "metadata": {
        "id": "P_DODRgW_ZKS"
      },
      "outputs": [],
      "source": [
        "'''\n",
        "A bunch of imports, you don't have to worry about these\n",
        "'''\n",
        "\n",
        "import numpy as np\n",
        "import random\n",
        "import torch\n",
        "import torch.nn as nn  \n",
        "import torch.nn.functional as F\n",
        "from collections import namedtuple, deque\n",
        "import torch.optim as optim\n",
        "import datetime\n",
        "import gym\n",
        "from gym.wrappers import Monitor\n",
        "import glob\n",
        "import io\n",
        "import base64\n",
        "import matplotlib.pyplot as plt\n",
        "from IPython.display import HTML\n",
        "from pyvirtualdisplay import Display\n",
        "import tensorflow as tf\n",
        "from IPython import display as ipythondisplay\n",
        "from PIL import Image\n",
        "import tensorflow_probability as tfp"
      ]
    },
    {
      "cell_type": "code",
      "execution_count": null,
      "metadata": {
        "colab": {
          "base_uri": "https://localhost:8080/"
        },
        "id": "fYNA5kiH_esJ",
        "outputId": "279948e2-8576-4ee2-e518-08b75141ae22"
      },
      "outputs": [
        {
          "name": "stdout",
          "output_type": "stream",
          "text": [
            "4\n",
            "2\n",
            "1\n",
            "----\n",
            "[-0.04456399  0.04653909  0.01326909 -0.02099827]\n",
            "----\n",
            "0\n",
            "----\n",
            "[-0.04363321 -0.14877061  0.01284913  0.2758415 ]\n",
            "1.0\n",
            "False\n",
            "{}\n",
            "----\n"
          ]
        }
      ],
      "source": [
        "'''\n",
        "Please refer to the first tutorial for more details on the specifics of environments\n",
        "We've only added important commands you might find useful for experiments.\n",
        "'''\n",
        "\n",
        "'''\n",
        "List of example environments\n",
        "(Source - https://gym.openai.com/envs/#classic_control)\n",
        "\n",
        "'Acrobot-v1'\n",
        "'CartPole-v0'\n",
        "'MountainCar-v0'\n",
        "'''\n",
        "\n",
        "env = gym.make('CartPole-v0')\n",
        "env.seed(0)\n",
        "\n",
        "state_shape = env.observation_space.shape[0]\n",
        "no_of_actions = env.action_space.n\n",
        "\n",
        "print(state_shape)\n",
        "print(no_of_actions)\n",
        "print(env.action_space.sample())\n",
        "print(\"----\")\n",
        "\n",
        "'''\n",
        "# Understanding State, Action, Reward Dynamics\n",
        "\n",
        "The agent decides an action to take depending on the state.\n",
        "\n",
        "The Environment keeps a variable specifically for the current state.\n",
        "- Everytime an action is passed to the environment, it calculates the new state and updates the current state variable.\n",
        "- It returns the new current state and reward for the agent to take the next action\n",
        "\n",
        "'''\n",
        "\n",
        "state = env.reset()   \n",
        "''' This returns the initial state (when environment is reset) '''\n",
        "\n",
        "print(state)\n",
        "print(\"----\")\n",
        "\n",
        "action = env.action_space.sample()  \n",
        "''' We take a random action now '''\n",
        "\n",
        "print(action)\n",
        "print(\"----\")\n",
        "\n",
        "next_state, reward, done, info = env.step(action) \n",
        "''' env.step is used to calculate new state and obtain reward based on old state and action taken  ''' \n",
        "\n",
        "print(next_state)\n",
        "print(reward)\n",
        "print(done)\n",
        "print(info)\n",
        "print(\"----\")\n"
      ]
    },
    {
      "cell_type": "markdown",
      "metadata": {
        "id": "apuaOxavDXus"
      },
      "source": [
        "## DQN\n",
        "\n",
        "Using NNs as substitutes isn't something new. It has been tried earlier, but the 'human control' paper really popularised using NNs by providing a few stability ideas (Q-Targets, Experience Replay & Truncation). The 'Deep-Q Network' (DQN) Algorithm can be broken down into having the following components. \n",
        "\n",
        "### Q-Network:\n",
        "The neural network used as a function approximator is defined below"
      ]
    },
    {
      "cell_type": "code",
      "execution_count": null,
      "metadata": {
        "id": "g4MRC1p2DZbp"
      },
      "outputs": [],
      "source": [
        "'''\n",
        "### Q Network & Some 'hyperparameters'\n",
        "\n",
        "QNetwork1:\n",
        "Input Layer - 4 nodes (State Shape) \\\n",
        "Hidden Layer 1 - 64 nodes \\\n",
        "Hidden Layer 2 - 64 nodes \\\n",
        "Output Layer - 2 nodes (Action Space) \\\n",
        "Optimizer - zero_grad()\n",
        "\n",
        "QNetwork2: Feel free to experiment more\n",
        "'''\n",
        "\n",
        "import torch\n",
        "import torch.nn as nn  \n",
        "import torch.nn.functional as F\n",
        "\n",
        "\n",
        "'''\n",
        "Bunch of Hyper parameters (Which you might have to tune later **wink wink**)\n",
        "'''\n",
        "BUFFER_SIZE = int(1e5) # ''' replay buffer size '''\n",
        "BATCH_SIZE = 64         #''' minibatch size '''\n",
        "GAMMA = 0.99            #''' discount factor '''\n",
        "LR = 5e-4               #''' learning rate '''\n",
        "UPDATE_EVERY = 20       #''' how often to update the network (When Q target is present) '''\n",
        "\n",
        "\n",
        "class QNetwork1(nn.Module):\n",
        "\n",
        "    def __init__(self, state_size, action_size, seed, fc1_units=128, fc2_units=64):\n",
        "        \"\"\"Initialize parameters and build model.\n",
        "        Params\n",
        "        ======\n",
        "            state_size (int): Dimension of each state\n",
        "            action_size (int): Dimension of each action\n",
        "            seed (int): Random seed\n",
        "            fc1_units (int): Number of nodes in first hidden layer\n",
        "            fc2_units (int): Number of nodes in second hidden layer\n",
        "        \"\"\"\n",
        "        super(QNetwork1, self).__init__()\n",
        "        self.seed = torch.manual_seed(seed)\n",
        "        self.fc1 = nn.Linear(state_size, fc1_units)\n",
        "        self.fc2 = nn.Linear(fc1_units, fc2_units)\n",
        "        self.fc3 = nn.Linear(fc2_units, action_size)\n",
        "\n",
        "    def forward(self, state):\n",
        "        \"\"\"Build a network that maps state -> action values.\"\"\"\n",
        "        x = F.relu(self.fc1(state))\n",
        "        x = F.relu(self.fc2(x))\n",
        "        return self.fc3(x)"
      ]
    },
    {
      "cell_type": "markdown",
      "metadata": {
        "id": "Jmv5c0XoK8GA"
      },
      "source": [
        "### Replay Buffer:\n",
        "\n",
        "This is a 'deque' that helps us store experiences. Recall why we use such a technique."
      ]
    },
    {
      "cell_type": "code",
      "execution_count": null,
      "metadata": {
        "id": "bh_oghc7Ledh"
      },
      "outputs": [],
      "source": [
        "import random\n",
        "import torch\n",
        "import numpy as np\n",
        "from collections import deque, namedtuple\n",
        "\n",
        "device = torch.device(\"cuda:0\" if torch.cuda.is_available() else \"cpu\")\n",
        "\n",
        "class ReplayBuffer:\n",
        "    \"\"\"Fixed-size buffer to store experience tuples.\"\"\"\n",
        "\n",
        "    def __init__(self, action_size, buffer_size, batch_size, seed):\n",
        "        \"\"\"Initialize a ReplayBuffer object.\n",
        "\n",
        "        Params\n",
        "        ======\n",
        "            action_size (int): dimension of each action\n",
        "            buffer_size (int): maximum size of buffer\n",
        "            batch_size (int): size of each training batch\n",
        "            seed (int): random seed\n",
        "        \"\"\"\n",
        "        self.action_size = action_size\n",
        "        self.memory = deque(maxlen=buffer_size)  \n",
        "        self.batch_size = batch_size\n",
        "        self.experience = namedtuple(\"Experience\", field_names=[\"state\", \"action\", \"reward\", \"next_state\", \"done\"])\n",
        "        self.seed = random.seed(seed)\n",
        "    \n",
        "    def add(self, state, action, reward, next_state, done):\n",
        "        \"\"\"Add a new experience to memory.\"\"\"\n",
        "        e = self.experience(state, action, reward, next_state, done)\n",
        "        self.memory.append(e)\n",
        "    \n",
        "    def sample(self):\n",
        "        \"\"\"Randomly sample a batch of experiences from memory.\"\"\"\n",
        "        experiences = random.sample(self.memory, k=self.batch_size)\n",
        "\n",
        "        states = torch.from_numpy(np.vstack([e.state for e in experiences if e is not None])).float().to(device)\n",
        "        actions = torch.from_numpy(np.vstack([e.action for e in experiences if e is not None])).long().to(device)\n",
        "        rewards = torch.from_numpy(np.vstack([e.reward for e in experiences if e is not None])).float().to(device)\n",
        "        next_states = torch.from_numpy(np.vstack([e.next_state for e in experiences if e is not None])).float().to(device)\n",
        "        dones = torch.from_numpy(np.vstack([e.done for e in experiences if e is not None]).astype(np.uint8)).float().to(device)\n",
        "  \n",
        "        return (states, actions, rewards, next_states, dones)\n",
        "\n",
        "    def __len__(self):\n",
        "        \"\"\"Return the current size of internal memory.\"\"\"\n",
        "        return len(self.memory)"
      ]
    },
    {
      "cell_type": "markdown",
      "metadata": {
        "id": "N8VJYkqoLqlO"
      },
      "source": [
        "## Truncation:\n",
        "We add a line (optionally) in the code to truncate the gradient in hopes that it would help with the stability of the learning process.\n",
        "\n",
        "## Tutorial Agent Code:\n"
      ]
    },
    {
      "cell_type": "code",
      "execution_count": null,
      "metadata": {
        "id": "ok_5eQM7OCTj"
      },
      "outputs": [],
      "source": [
        "class TutorialAgent():\n",
        "\n",
        "    def __init__(self, state_size, action_size, seed):\n",
        "\n",
        "        ''' Agent Environment Interaction '''\n",
        "        self.state_size = state_size\n",
        "        self.action_size = action_size\n",
        "        self.seed = random.seed(seed)\n",
        "\n",
        "        ''' Q-Network '''\n",
        "        self.qnetwork_local = QNetwork1(state_size, action_size, seed).to(device)\n",
        "        self.qnetwork_target = QNetwork1(state_size, action_size, seed).to(device)\n",
        "        self.optimizer = optim.Adam(self.qnetwork_local.parameters(), lr=LR)\n",
        "\n",
        "        ''' Replay memory '''\n",
        "        self.memory = ReplayBuffer(action_size, BUFFER_SIZE, BATCH_SIZE, seed)\n",
        "\n",
        "        ''' Initialize time step (for updating every UPDATE_EVERY steps)           -Needed for Q Targets '''\n",
        "        self.t_step = 0\n",
        "    \n",
        "    def step(self, state, action, reward, next_state, done):\n",
        "\n",
        "        ''' Save experience in replay memory '''\n",
        "        self.memory.add(state, action, reward, next_state, done)\n",
        "        \n",
        "        ''' If enough samples are available in memory, get random subset and learn '''\n",
        "        if len(self.memory) >= BATCH_SIZE:\n",
        "            experiences = self.memory.sample()\n",
        "            self.learn(experiences, GAMMA)\n",
        "\n",
        "        \"\"\" +Q TARGETS PRESENT \"\"\"\n",
        "        ''' Updating the Network every 'UPDATE_EVERY' steps taken '''      \n",
        "        self.t_step = (self.t_step + 1) % UPDATE_EVERY\n",
        "        if self.t_step == 0:\n",
        "\n",
        "            self.qnetwork_target.load_state_dict(self.qnetwork_local.state_dict())\n",
        "\n",
        "    def act(self, state, eps=0.):\n",
        "\n",
        "        state = torch.from_numpy(state).float().unsqueeze(0).to(device)\n",
        "        self.qnetwork_local.eval()\n",
        "        with torch.no_grad():\n",
        "            action_values = self.qnetwork_local(state)\n",
        "        self.qnetwork_local.train()\n",
        "\n",
        "        ''' Epsilon-greedy action selection (Already Present) '''\n",
        "        if random.random() > eps:\n",
        "            return np.argmax(action_values.cpu().data.numpy())\n",
        "        else:\n",
        "            return random.choice(np.arange(self.action_size))\n",
        "\n",
        "    def learn(self, experiences, gamma):\n",
        "        \"\"\" +E EXPERIENCE REPLAY PRESENT \"\"\"\n",
        "        states, actions, rewards, next_states, dones = experiences\n",
        "\n",
        "        ''' Get max predicted Q values (for next states) from target model'''\n",
        "        Q_targets_next = self.qnetwork_target(next_states).detach().max(1)[0].unsqueeze(1)\n",
        "\n",
        "        ''' Compute Q targets for current states '''\n",
        "        Q_targets = rewards + (gamma * Q_targets_next * (1 - dones))\n",
        "\n",
        "        ''' Get expected Q values from local model '''\n",
        "        Q_expected = self.qnetwork_local(states).gather(1, actions)\n",
        "\n",
        "        ''' Compute loss '''\n",
        "        loss = F.mse_loss(Q_expected, Q_targets)\n",
        "\n",
        "        ''' Minimize the loss '''\n",
        "        self.optimizer.zero_grad()\n",
        "        loss.backward()\n",
        "        \n",
        "        ''' Gradiant Clipping '''\n",
        "        \"\"\" +T TRUNCATION PRESENT \"\"\"\n",
        "        for param in self.qnetwork_local.parameters():\n",
        "            param.grad.data.clamp_(-1, 1)\n",
        "            \n",
        "        self.optimizer.step()"
      ]
    },
    {
      "cell_type": "markdown",
      "metadata": {
        "id": "3SQFbRCHWQyO"
      },
      "source": [
        "### Here, we present the DQN algorithm code."
      ]
    },
    {
      "cell_type": "code",
      "execution_count": null,
      "metadata": {
        "colab": {
          "base_uri": "https://localhost:8080/"
        },
        "id": "r6A2TdUHWVUN",
        "outputId": "34b0a6fe-cf21-47a5-a910-a65fa9e76397"
      },
      "outputs": [
        {
          "name": "stdout",
          "output_type": "stream",
          "text": [
            "Episode 100\tAverage Score: 38.69\n",
            "Episode 200\tAverage Score: 120.20\n",
            "Episode 300\tAverage Score: 109.18\n",
            "Episode 400\tAverage Score: 23.80\n",
            "Episode 500\tAverage Score: 17.78\n",
            "Episode 600\tAverage Score: 28.24\n",
            "Episode 700\tAverage Score: 9.54\n",
            "Episode 800\tAverage Score: 9.46\n",
            "Episode 900\tAverage Score: 12.21\n",
            "Episode 1000\tAverage Score: 13.34\n",
            "Episode 1100\tAverage Score: 9.39\n",
            "Episode 1200\tAverage Score: 9.45\n",
            "Episode 1300\tAverage Score: 11.25\n",
            "Episode 1400\tAverage Score: 17.29\n",
            "Episode 1500\tAverage Score: 25.37\n",
            "Episode 1600\tAverage Score: 36.72\n",
            "Episode 1700\tAverage Score: 162.36\n",
            "Episode 1800\tAverage Score: 134.34\n",
            "Episode 1900\tAverage Score: 150.11\n",
            "Episode 2000\tAverage Score: 156.37\n",
            "Episode 2100\tAverage Score: 151.05\n",
            "Episode 2200\tAverage Score: 104.28\n",
            "Episode 2300\tAverage Score: 89.45\n",
            "Episode 2400\tAverage Score: 27.99\n",
            "Episode 2500\tAverage Score: 31.51\n",
            "Episode 2600\tAverage Score: 19.00\n",
            "Episode 2700\tAverage Score: 21.25\n",
            "Episode 2800\tAverage Score: 21.46\n",
            "Episode 2900\tAverage Score: 12.86\n",
            "Episode 3000\tAverage Score: 28.47\n",
            "Episode 3100\tAverage Score: 26.31\n",
            "Episode 3200\tAverage Score: 13.80\n",
            "Episode 3300\tAverage Score: 16.91\n",
            "Episode 3400\tAverage Score: 18.99\n",
            "Episode 3500\tAverage Score: 21.39\n",
            "Episode 3600\tAverage Score: 21.53\n",
            "Episode 3700\tAverage Score: 20.99\n",
            "Episode 3800\tAverage Score: 20.82\n",
            "Episode 3900\tAverage Score: 22.50\n",
            "Episode 4000\tAverage Score: 75.94\n",
            "Episode 4076\tAverage Score: 195.08\n",
            "Environment solved in 3976 episodes!\tAverage Score: 195.08\n",
            "0:07:57.446785\n"
          ]
        }
      ],
      "source": [
        "''' Defining DQN Algorithm '''\n",
        "\n",
        "state_shape = env.observation_space.shape[0]\n",
        "action_shape = env.action_space.n\n",
        "\n",
        "def dqn(n_episodes=10000, max_t=1000, eps_start=1.0, eps_end=0.01, eps_decay=0.995):\n",
        "\n",
        "    scores = []                 \n",
        "    ''' list containing scores from each episode '''\n",
        "\n",
        "    scores_window_printing = deque(maxlen=10) \n",
        "    ''' For printing in the graph '''\n",
        "    \n",
        "    scores_window= deque(maxlen=100)  \n",
        "    ''' last 100 scores for checking if the avg is more than 195 '''\n",
        "\n",
        "    eps = eps_start                    \n",
        "    ''' initialize epsilon '''\n",
        "\n",
        "    for i_episode in range(1, n_episodes+1):\n",
        "        state = env.reset()\n",
        "        score = 0\n",
        "        for t in range(max_t):\n",
        "            action = agent.act(state, eps)\n",
        "            next_state, reward, done, _ = env.step(action)\n",
        "            agent.step(state, action, reward, next_state, done)\n",
        "            state = next_state\n",
        "            score += reward\n",
        "            if done:\n",
        "                break \n",
        "\n",
        "        scores_window.append(score)       \n",
        "        scores_window_printing.append(score)   \n",
        "        ''' save most recent score '''           \n",
        "\n",
        "        eps = max(eps_end, eps_decay*eps) \n",
        "        ''' decrease epsilon '''\n",
        "\n",
        "        print('\\rEpisode {}\\tAverage Score: {:.2f}'.format(i_episode, np.mean(scores_window)), end=\"\")  \n",
        "        if i_episode % 10 == 0: \n",
        "            scores.append(np.mean(scores_window_printing))        \n",
        "        if i_episode % 100 == 0: \n",
        "           print('\\rEpisode {}\\tAverage Score: {:.2f}'.format(i_episode, np.mean(scores_window)))\n",
        "        if np.mean(scores_window)>=195.0:\n",
        "           print('\\nEnvironment solved in {:d} episodes!\\tAverage Score: {:.2f}'.format(i_episode-100, np.mean(scores_window)))\n",
        "           break\n",
        "    return [np.array(scores),i_episode-100]\n",
        "\n",
        "''' Trial run to check if algorithm runs and saves the data '''\n",
        "\n",
        "begin_time = datetime.datetime.now()\n",
        "agent = TutorialAgent(state_size=state_shape,action_size = action_shape,seed = 0)\n",
        "\n",
        "\n",
        "dqn()\n",
        "\n",
        "\n",
        "time_taken = datetime.datetime.now() - begin_time\n",
        "\n",
        "print(time_taken)"
      ]
    },
    {
      "cell_type": "markdown",
      "metadata": {
        "id": "sL9YMq9yPHLk"
      },
      "source": [
        "### **Task 1a**  \n",
        "Understand the core of the algorithm, follow the flow of data. Identify the exploration strategy used.\n",
        "### **Task 1b**\n",
        "Out of the two exploration strategies discussed in class ($ϵ$-greedy & Softmax). Implement the strategy that's not used here. \n",
        "### **Task 1c**\n",
        "How fast does the agent 'solve' the environment in terms of the number of episodes?\n",
        "(CartPole-v0 defines \"solving\" as getting average reward of 195.0 over 100 consecutive trials. SOURCE - https://gym.openai.com/envs/CartPole-v0/)\n",
        "\n",
        "How 'well' does the agent learn? (reward plot?) The above two are some 'evaluation metrics' you can use to comment on the performance of an algorithm.\n",
        "\n",
        "Please compare DQN (using $\\epsilon$-greedy) with DQN (using softmax). Think along the lines of 'no. of episodes', 'reward plots', 'compute time', etc. and add a few comments.\n",
        "\n",
        "### **Task 1d (Optional)** \n",
        "\n",
        "Take a look at the official submissions page on [OpenAI gym's CartPole v-0 evaluations](https://gym.openai.com/envs/CartPole-v0/) \n",
        "\n",
        "\n"
      ]
    },
    {
      "cell_type": "markdown",
      "metadata": {
        "id": "6RH2Hl1FxTVy"
      },
      "source": [
        "**Task 1a**\n",
        "The exploration strategy used here is the epsilon - greedy method."
      ]
    },
    {
      "cell_type": "markdown",
      "metadata": {
        "id": "64pKeBW-x2I2"
      },
      "source": [
        "**Task 1b**"
      ]
    },
    {
      "cell_type": "code",
      "execution_count": null,
      "metadata": {
        "id": "QteFAjcBxNG4"
      },
      "outputs": [],
      "source": [
        "class TutorialAgentSoftmax():\n",
        "\n",
        "    def __init__(self, state_size, action_size, seed):\n",
        "\n",
        "        ''' Agent Environment Interaction '''\n",
        "        self.state_size = state_size\n",
        "        self.action_size = action_size\n",
        "        self.seed = random.seed(seed)\n",
        "        self.rg = np.random.RandomState(seed)\n",
        "\n",
        "        ''' Q-Network '''\n",
        "        self.qnetwork_local = QNetwork1(state_size, action_size, seed).to(device)\n",
        "        self.qnetwork_target = QNetwork1(state_size, action_size, seed).to(device)\n",
        "        self.optimizer = optim.Adam(self.qnetwork_local.parameters(), lr=LR)\n",
        "\n",
        "        ''' Replay memory '''\n",
        "        self.memory = ReplayBuffer(action_size, BUFFER_SIZE, BATCH_SIZE, seed)\n",
        "\n",
        "        ''' Initialize time step (for updating every UPDATE_EVERY steps)           -Needed for Q Targets '''\n",
        "        self.t_step = 0\n",
        "    \n",
        "    def step(self, state, action, reward, next_state, done):\n",
        "\n",
        "        ''' Save experience in replay memory '''\n",
        "        self.memory.add(state, action, reward, next_state, done)\n",
        "        \n",
        "        ''' If enough samples are available in memory, get random subset and learn '''\n",
        "        if len(self.memory) >= BATCH_SIZE:\n",
        "            experiences = self.memory.sample()\n",
        "            self.learn(experiences, GAMMA)\n",
        "\n",
        "        \"\"\" +Q TARGETS PRESENT \"\"\"\n",
        "        ''' Updating the Network every 'UPDATE_EVERY' steps taken '''      \n",
        "        self.t_step = (self.t_step + 1) % UPDATE_EVERY\n",
        "        if self.t_step == 0:\n",
        "\n",
        "            self.qnetwork_target.load_state_dict(self.qnetwork_local.state_dict())\n",
        "\n",
        "    def act(self, state, eps=0.):\n",
        "\n",
        "        state = torch.from_numpy(state).float().unsqueeze(0).to(device)\n",
        "        self.qnetwork_local.eval()\n",
        "        with torch.no_grad():\n",
        "            action_values = self.qnetwork_local(state)\n",
        "        self.qnetwork_local.train()\n",
        "\n",
        "        ''' Softmax- Exploration '''\n",
        "        from scipy.special import softmax\n",
        "        return self.rg.choice(np.arange(self.action_size), p = softmax(action_values.cpu().data.numpy()[0]))\n",
        "\n",
        "    def learn(self, experiences, gamma):\n",
        "        \"\"\" +E EXPERIENCE REPLAY PRESENT \"\"\"\n",
        "        states, actions, rewards, next_states, dones = experiences\n",
        "\n",
        "        ''' Get max predicted Q values (for next states) from target model'''\n",
        "        Q_targets_next = self.qnetwork_target(next_states).detach().max(1)[0].unsqueeze(1)\n",
        "\n",
        "        ''' Compute Q targets for current states '''\n",
        "        Q_targets = rewards + (gamma * Q_targets_next * (1 - dones))\n",
        "\n",
        "        ''' Get expected Q values from local model '''\n",
        "        Q_expected = self.qnetwork_local(states).gather(1, actions)\n",
        "\n",
        "        ''' Compute loss '''\n",
        "        loss = F.mse_loss(Q_expected, Q_targets)\n",
        "\n",
        "        ''' Minimize the loss '''\n",
        "        self.optimizer.zero_grad()\n",
        "        loss.backward()\n",
        "        \n",
        "        ''' Gradiant Clipping '''\n",
        "        \"\"\" +T TRUNCATION PRESENT \"\"\"\n",
        "        for param in self.qnetwork_local.parameters():\n",
        "            param.grad.data.clamp_(-1, 1)\n",
        "            \n",
        "        self.optimizer.step()"
      ]
    },
    {
      "cell_type": "code",
      "execution_count": null,
      "metadata": {
        "colab": {
          "base_uri": "https://localhost:8080/"
        },
        "id": "oH-tyfBP17Mu",
        "outputId": "cef34166-5531-4778-b588-cd4f3a613a98"
      },
      "outputs": [
        {
          "name": "stdout",
          "output_type": "stream",
          "text": [
            "Episode 100\tAverage Score: 41.97\n",
            "Episode 200\tAverage Score: 130.25\n",
            "Episode 300\tAverage Score: 44.07\n",
            "Episode 400\tAverage Score: 62.22\n",
            "Episode 500\tAverage Score: 13.88\n",
            "Episode 600\tAverage Score: 12.26\n",
            "Episode 700\tAverage Score: 192.45\n",
            "Episode 703\tAverage Score: 196.26\n",
            "Environment solved in 603 episodes!\tAverage Score: 196.26\n",
            "0:01:55.315846\n"
          ]
        }
      ],
      "source": [
        "begin_time = datetime.datetime.now()\n",
        "agent = TutorialAgent(state_size=state_shape,action_size = action_shape,seed = 0)\n",
        "\n",
        "\n",
        "dqn()\n",
        "\n",
        "\n",
        "time_taken = datetime.datetime.now() - begin_time\n",
        "\n",
        "print(time_taken)"
      ]
    },
    {
      "cell_type": "markdown",
      "metadata": {
        "id": "C1dSiimOgAd_"
      },
      "source": [
        "**Task 1c**"
      ]
    },
    {
      "cell_type": "markdown",
      "metadata": {
        "id": "TNxek-LPh__5"
      },
      "source": [
        "The softmax exploration is converging in less time and less number of episodes than compared to greedy epsilon method. "
      ]
    },
    {
      "cell_type": "markdown",
      "metadata": {
        "id": "5LBh6_lOVBdN"
      },
      "source": [
        "#### **Submission Steps**\n",
        "\n",
        "#### Task 1: Add a text cell with the answer.\n",
        "\n",
        "#### Task 2: Add a code cell below task 1 solution and use 'Tutorial Agent Code' to build your new agent (with a different exploration strategy).\n",
        "\n",
        "#### Task 3: Add a code cell below task 2 solution running both the agents to solve the CartPole v-0 environment and add a new text cell below it with your inferences."
      ]
    },
    {
      "cell_type": "markdown",
      "metadata": {
        "id": "Zt6xX0njbJvS"
      },
      "source": [
        "## **Part 2: One-Step Actor-Critic Algorithm**"
      ]
    },
    {
      "cell_type": "markdown",
      "metadata": {
        "id": "w9WWiiNxhM7x"
      },
      "source": [
        "**Actor-Critic methods** learn both a policy $\\pi(a|s;\\theta)$ and a state-value function $v(s;w)$ simultaneously. The policy is referred to as the actor that suggests actions given a state. The estimated value function is referred to as the critic. It evaluates actions taken by the actor based on the given policy. In this exercise, both functions are approximated by feedforward neural networks. \n",
        "\n",
        "- The policy network is parametrized by $\\theta$ - it takes a state $s$ as input and outputs the probabilities $\\pi(a|s;\\theta)\\ \\forall\\ a$\n",
        "- The value network is parametrized by $w$ - it takes a state $s$ as input and outputs a scalar value associated with the state, i.e., $v(s;w)$\n",
        "- The single step TD error can be defined as follows:\n",
        "$$\\delta_t  = R_{t+1} + \\gamma v(s_{t+1};w) - v(s_t;w)$$\n",
        "- The loss function to be minimized at every step ($L_{tot}^{(t)}$) is a summation of two terms, as follows:\n",
        "$$L_{tot}^{(t)} = L_{actor}^{(t)} + L_{critic}^{(t)}$$\n",
        "where,\n",
        "$$L_{actor}^{(t)} = -\\log\\pi(a_t|s_t; \\theta)\\delta_t$$\n",
        "$$L_{critic}^{(t)} = \\delta_t^2$$\n",
        "- **NOTE: Here, weights of the first two hidden layers are shared by the policy and the value network**\n",
        "    - First two hidden layer sizes: [1024, 512]\n",
        "    - Output size of policy network: 2 (Softmax activation)\n",
        "    - Output size of value network: 1 (Linear activation)\n",
        "\n",
        "<!-- $$\\pi(a|s;\\theta) = \\phi_{\\theta}(a,s)$$ -->"
      ]
    },
    {
      "cell_type": "markdown",
      "metadata": {
        "id": "1eU3_IeYwN3H"
      },
      "source": [
        "### Initializing Actor-Critic Network"
      ]
    },
    {
      "cell_type": "code",
      "execution_count": null,
      "metadata": {
        "id": "MXFHQcJjVKYu"
      },
      "outputs": [],
      "source": [
        "class ActorCriticModel(tf.keras.Model):\n",
        "    \"\"\"\n",
        "    Defining policy and value networkss\n",
        "    \"\"\"\n",
        "    def __init__(self, action_size, n_hidden1=1024, n_hidden2=512):\n",
        "        super(ActorCriticModel, self).__init__()\n",
        "\n",
        "        #Hidden Layer 1\n",
        "        self.fc1 = tf.keras.layers.Dense(n_hidden1, activation='relu')\n",
        "        #Hidden Layer 2\n",
        "        self.fc2 = tf.keras.layers.Dense(n_hidden2, activation='relu')\n",
        "        \n",
        "        #Output Layer for policy\n",
        "        self.pi_out = tf.keras.layers.Dense(action_size, activation='softmax')\n",
        "        #Output Layer for state-value\n",
        "        self.v_out = tf.keras.layers.Dense(1)\n",
        "\n",
        "    def call(self, state):\n",
        "        \"\"\"\n",
        "        Computes policy distribution and state-value for a given state\n",
        "        \"\"\"\n",
        "        layer1 = self.fc1(state)\n",
        "        layer2 = self.fc2(layer1)\n",
        "\n",
        "        pi = self.pi_out(layer2)\n",
        "        v = self.v_out(layer2)\n",
        "\n",
        "        return pi, v"
      ]
    },
    {
      "cell_type": "markdown",
      "metadata": {
        "id": "40uV1hrewVnA"
      },
      "source": [
        "### Agent Class\n",
        "###**Task 2a:** Write code to compute $\\delta_t$ inside the Agent.learn() function\n",
        "\n"
      ]
    },
    {
      "cell_type": "code",
      "execution_count": null,
      "metadata": {
        "id": "9RNpp9WMfkTE"
      },
      "outputs": [],
      "source": [
        "class Agent:\n",
        "    \"\"\"\n",
        "    Agent class\n",
        "    \"\"\"\n",
        "    def __init__(self, action_size, lr=0.001, gamma=0.99, seed = 85):\n",
        "        self.gamma = gamma\n",
        "        self.ac_model = ActorCriticModel(action_size=action_size)\n",
        "        self.ac_model.compile(tf.keras.optimizers.Adam(learning_rate=lr))\n",
        "        np.random.seed(seed)\n",
        "    \n",
        "    def sample_action(self, state):\n",
        "        \"\"\"\n",
        "        Given a state, compute the policy distribution over all actions and sample one action\n",
        "        \"\"\"\n",
        "        pi,_ = self.ac_model(state)\n",
        "\n",
        "        action_probabilities = tfp.distributions.Categorical(probs=pi)\n",
        "        sample = action_probabilities.sample()\n",
        "\n",
        "        return int(sample.numpy()[0])\n",
        "\n",
        "    def actor_loss(self, action, pi, delta):\n",
        "        \"\"\"\n",
        "        Compute Actor Loss\n",
        "        \"\"\"\n",
        "        return -tf.math.log(pi[0,action]) * delta\n",
        "\n",
        "    def critic_loss(self,delta):\n",
        "        \"\"\"\n",
        "        Critic loss aims to minimize TD error\n",
        "        \"\"\"\n",
        "        return delta**2\n",
        "\n",
        "    @tf.function\n",
        "    def learn(self, state, action, reward, next_state, done):\n",
        "        \"\"\"\n",
        "        For a given transition (s,a,s',r) update the paramters by computing the\n",
        "        gradient of the total loss\n",
        "        \"\"\"\n",
        "        with tf.GradientTape(persistent=True) as tape:\n",
        "            pi, V_s = self.ac_model(state)\n",
        "            _, V_s_next = self.ac_model(next_state)\n",
        "\n",
        "            #V_s_next = tf.stop_gradient(V_s_next)\n",
        "\n",
        "            V_s = tf.squeeze(V_s)\n",
        "            V_s_next = tf.squeeze(V_s_next)\n",
        "            \n",
        "\n",
        "            #### TO DO: Write the equation for delta (TD error)\n",
        "            ## Write code below\n",
        "            delta = reward + self.gamma*V_s_next - V_s\n",
        "\n",
        "            loss_a = self.actor_loss(action, pi, delta)\n",
        "            loss_c =self.critic_loss(delta)\n",
        "            loss_total = loss_a + loss_c\n",
        "\n",
        "        gradient = tape.gradient(loss_total, self.ac_model.trainable_variables)\n",
        "        self.ac_model.optimizer.apply_gradients(zip(gradient, self.ac_model.trainable_variables))"
      ]
    },
    {
      "cell_type": "markdown",
      "metadata": {
        "id": "bUJwznIzwBIX"
      },
      "source": [
        "### Train the Network"
      ]
    },
    {
      "cell_type": "code",
      "execution_count": null,
      "metadata": {
        "colab": {
          "base_uri": "https://localhost:8080/"
        },
        "id": "Q0SB0o_OfyGN",
        "outputId": "72ebe5cf-e3de-4fd9-c3ea-adf0064de60c"
      },
      "outputs": [
        {
          "name": "stdout",
          "output_type": "stream",
          "text": [
            "Episode  100 Reward 9.000000 Average Reward 9.500000\n",
            "Episode  200 Reward 9.000000 Average Reward 9.000000\n",
            "Episode  300 Reward 9.000000 Average Reward 9.400000\n",
            "Episode  400 Reward 9.000000 Average Reward 9.100000\n",
            "Episode  500 Reward 9.000000 Average Reward 9.500000\n",
            "Episode  600 Reward 9.000000 Average Reward 9.400000\n",
            "Episode  700 Reward 10.000000 Average Reward 9.300000\n",
            "Episode  800 Reward 9.000000 Average Reward 9.200000\n",
            "Episode  900 Reward 9.000000 Average Reward 9.400000\n",
            "Episode  1000 Reward 10.000000 Average Reward 9.200000\n",
            "Episode  1100 Reward 10.000000 Average Reward 9.400000\n",
            "Episode  1200 Reward 9.000000 Average Reward 9.400000\n",
            "Episode  1300 Reward 9.000000 Average Reward 9.100000\n",
            "Episode  1400 Reward 9.000000 Average Reward 9.200000\n",
            "Episode  1500 Reward 9.000000 Average Reward 9.700000\n",
            "Episode  1600 Reward 9.000000 Average Reward 9.200000\n",
            "Episode  1700 Reward 10.000000 Average Reward 9.300000\n",
            "Episode  1800 Reward 8.000000 Average Reward 9.100000\n",
            "0:02:20.676107\n"
          ]
        }
      ],
      "source": [
        "env = gym.make('CartPole-v0')\n",
        "\n",
        "#Initializing Agent\n",
        "agent = Agent(lr=1e-4, action_size=env.action_space.n)\n",
        "#Number of episodes\n",
        "episodes = 1800\n",
        "tf.compat.v1.reset_default_graph()\n",
        "\n",
        "reward_list = []\n",
        "average_reward_list = []\n",
        "begin_time = datetime.datetime.now()\n",
        "\n",
        "for ep in range(1, episodes + 1):\n",
        "    state = env.reset().reshape(1,-1)\n",
        "    done = False\n",
        "    ep_rew = 0\n",
        "    while not done:\n",
        "        action = agent.sample_action(state) ##Sample Action\n",
        "        next_state, reward, done, info = env.step(action) ##Take action\n",
        "        next_state = next_state.reshape(1,-1)\n",
        "        ep_rew += reward  ##Updating episode reward\n",
        "        agent.learn(state, action, reward, next_state, done) ##Update Parameters\n",
        "        state = next_state ##Updating State\n",
        "    reward_list.append(ep_rew)\n",
        "\n",
        "    if ep % 100 == 0:\n",
        "        avg_rew = np.mean(reward_list[-10:])\n",
        "        print('Episode ', ep, 'Reward %f' % ep_rew, 'Average Reward %f' % avg_rew)\n",
        "\n",
        "    if ep % 100:\n",
        "        avg_100 =  np.mean(reward_list[-100:])\n",
        "        average_reward_list.append(avg_100)\n",
        "        if avg_100 > 195.0:\n",
        "            print('Stopped at Episode ',ep-100)\n",
        "            break\n",
        "\n",
        "time_taken = datetime.datetime.now() - begin_time\n",
        "print(time_taken)"
      ]
    },
    {
      "cell_type": "markdown",
      "metadata": {
        "id": "twYwsX7Hu1V1"
      },
      "source": [
        "### **Task 2b**: Plot total reward curve\n",
        "In the cell below, write code to plot the total reward averaged over 100 episodes (moving average)"
      ]
    },
    {
      "cell_type": "code",
      "execution_count": null,
      "metadata": {
        "colab": {
          "base_uri": "https://localhost:8080/",
          "height": 299
        },
        "id": "wOZzkLIgvHgS",
        "outputId": "6af9920e-74da-4c41-98b5-3d336d60ab19"
      },
      "outputs": [
        {
          "data": {
            "text/plain": [
              "Text(0, 0.5, 'Reward')"
            ]
          },
          "execution_count": 24,
          "metadata": {},
          "output_type": "execute_result"
        },
        {
          "data": {
            "image/png": "[encoded data removed]",
            "text/plain": [
              "<Figure size 432x288 with 1 Axes>"
            ]
          },
          "metadata": {
            "needs_background": "light"
          },
          "output_type": "display_data"
        }
      ],
      "source": [
        "### Plot of total reward vs episode\n",
        "## Write Code Below\n",
        "\n",
        "plt.plot(average_reward_list)\n",
        "plt.xlabel('Episode')\n",
        "plt.ylabel('Reward')\n",
        "\n"
      ]
    },
    {
      "cell_type": "markdown",
      "metadata": {
        "id": "UjC1dxbuuNL2"
      },
      "source": [
        "### Code for rendering ([source](https://colab.research.google.com/drive/1D6bvoEVukil7DUaJU465vtfuDgLDbOY7#scrollTo=qbIMMkfmRHyC))"
      ]
    },
    {
      "cell_type": "code",
      "execution_count": null,
      "metadata": {
        "id": "D2cisMBqgg9Y"
      },
      "outputs": [],
      "source": [
        "# Render an episode and save as a GIF file\n",
        "\n",
        "display = Display(visible=0, size=(400, 300))\n",
        "display.start()\n",
        "\n",
        "\n",
        "def render_episode(env: gym.Env, model: tf.keras.Model, max_steps: int): \n",
        "  screen = env.render(mode='rgb_array')\n",
        "  im = Image.fromarray(screen)\n",
        "\n",
        "  images = [im]\n",
        "  \n",
        "  state = tf.constant(env.reset(), dtype=tf.float32)\n",
        "  for i in range(1, max_steps + 1):\n",
        "    state = tf.expand_dims(state, 0)\n",
        "    action_probs, _ = model(state)\n",
        "    action = np.argmax(np.squeeze(action_probs))\n",
        "    state, _, done, _ = env.step(action)\n",
        "    state = tf.constant(state, dtype=tf.float32)\n",
        "\n",
        "    # Render screen every 10 steps\n",
        "    if i % 10 == 0:\n",
        "      screen = env.render(mode='rgb_array')\n",
        "      images.append(Image.fromarray(screen))\n",
        "  \n",
        "    if done:\n",
        "      break\n",
        "  \n",
        "  return images\n",
        "\n",
        "\n",
        "# Save GIF image\n",
        "images = render_episode(env, agent.ac_model, 200)\n",
        "image_file = 'cartpole-v0.gif'\n",
        "# loop=0: loop forever, duration=1: play each frame for 1ms\n",
        "images[0].save(\n",
        "    image_file, save_all=True, append_images=images[1:], loop=0, duration=1)"
      ]
    },
    {
      "cell_type": "code",
      "execution_count": null,
      "metadata": {
        "id": "2BT7j10-9zms"
      },
      "outputs": [],
      "source": [
        "import tensorflow_docs.vis.embed as embed\n",
        "embed.embed_file(image_file)"
      ]
    },
    {
      "cell_type": "code",
      "execution_count": null,
      "metadata": {
        "id": "pgDnDpjC_d9q"
      },
      "outputs": [],
      "source": [
        ""
      ]
    }
  ],
  "metadata": {
    "colab": {
      "collapsed_sections": [
        "5LBh6_lOVBdN"
      ],
      "name": "Tutorial_4_DQN_and_AC (1).ipynb",
      "provenance": [],
      "include_colab_link": true
    },
    "kernelspec": {
      "display_name": "Python 3",
      "language": "python",
      "name": "python3"
    },
    "language_info": {
      "codemirror_mode": {
        "name": "ipython",
        "version": 3
      },
      "file_extension": ".py",
      "mimetype": "text/x-python",
      "name": "python",
      "nbconvert_exporter": "python",
      "pygments_lexer": "ipython3",
      "version": "3.8.8"
    }
  },
  "nbformat": 4,
  "nbformat_minor": 0
}